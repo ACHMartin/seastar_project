{
 "cells": [
  {
   "cell_type": "code",
   "execution_count": 1,
   "id": "64d6a3f3",
   "metadata": {},
   "outputs": [],
   "source": [
    "import xarray as xr\n",
    "import numpy as np\n",
    "import scipy as sp\n",
    "import seastar as ss\n",
    "import warnings\n",
    "import os\n",
    "from _version import __version__"
   ]
  },
  {
   "cell_type": "code",
   "execution_count": 2,
   "id": "2693b6ba",
   "metadata": {},
   "outputs": [
    {
     "name": "stdout",
     "output_type": "stream",
     "text": [
      "Device name = LIVPCZG-10\n",
      "Setting local paths...\n"
     ]
    }
   ],
   "source": [
    "save_folder=os.path.join('D:\\data\\SEASTAR\\SEASTARex\\Data\\L1b','')\n",
    "version = 'v20230215'\n",
    "days = ['17','22','25','26']\n",
    "flights = ['202205' + d for d in days]\n",
    "file_paths = ss.utils.readers._set_file_paths()\n",
    "vars_to_keep = ['LatImage', 'LonImage', 'IncidenceAngleImage', 'LookDirection', 'SquintImage', 'CentralFreq',\n",
    "               'OrbitHeadingImage']"
   ]
  },
  {
   "cell_type": "code",
   "execution_count": 3,
   "id": "65f2d4ea",
   "metadata": {},
   "outputs": [
    {
     "name": "stdout",
     "output_type": "stream",
     "text": [
      "OSCAR L1 processing - data version v20230215\n",
      "-------------------\n",
      "File path : D:\\data\\SEASTAR\\SEASTARex\\Data\\Metasensing\\OSCAR\\v20230215\\20220517\\matlab-pre-processed\\\n",
      "-------------------\n",
      "File index : 0 , Aquisition time : 20220517T090013 , File list indices : [0, 1, 2]\n",
      "File index : 1 , Aquisition time : 20220517T090809 , File list indices : [3, 4, 5]\n",
      "File index : 2 , Aquisition time : 20220517T091519 , File list indices : [6, 7, 8]\n",
      "File index : 3 , Aquisition time : 20220517T093239 , File list indices : [9, 10, 11]\n",
      "File index : 4 , Aquisition time : 20220517T093818 , File list indices : [12, 13, 14]\n",
      "File index : 5 , Aquisition time : 20220517T094339 , File list indices : [15, 16, 17]\n",
      "File index : 6 , Aquisition time : 20220517T101737 , File list indices : [18, 19, 20]\n",
      "Processing file index 0 ...\n"
     ]
    },
    {
     "ename": "KeyError",
     "evalue": "'CentralWavenumber'",
     "output_type": "error",
     "traceback": [
      "\u001b[1;31m---------------------------------------------------------------------------\u001b[0m",
      "\u001b[1;31mKeyError\u001b[0m                                  Traceback (most recent call last)",
      "File \u001b[1;32m~\\anaconda3\\envs\\seastar\\lib\\site-packages\\xarray\\core\\dataset.py:1301\u001b[0m, in \u001b[0;36mDataset._copy_listed\u001b[1;34m(self, names)\u001b[0m\n\u001b[0;32m   1300\u001b[0m \u001b[38;5;28;01mtry\u001b[39;00m:\n\u001b[1;32m-> 1301\u001b[0m     variables[name] \u001b[38;5;241m=\u001b[39m \u001b[38;5;28;43mself\u001b[39;49m\u001b[38;5;241;43m.\u001b[39;49m\u001b[43m_variables\u001b[49m\u001b[43m[\u001b[49m\u001b[43mname\u001b[49m\u001b[43m]\u001b[49m\n\u001b[0;32m   1302\u001b[0m \u001b[38;5;28;01mexcept\u001b[39;00m \u001b[38;5;167;01mKeyError\u001b[39;00m:\n",
      "\u001b[1;31mKeyError\u001b[0m: 'CentralWavenumber'",
      "\nDuring handling of the above exception, another exception occurred:\n",
      "\u001b[1;31mKeyError\u001b[0m                                  Traceback (most recent call last)",
      "Cell \u001b[1;32mIn[3], line 44\u001b[0m\n\u001b[0;32m     42\u001b[0m     ds_ml[dict_index]\u001b[38;5;241m.\u001b[39mattrs[\u001b[38;5;124m'\u001b[39m\u001b[38;5;124mTitle\u001b[39m\u001b[38;5;124m'\u001b[39m] \u001b[38;5;241m=\u001b[39m ds_L1a[dict_index]\u001b[38;5;241m.\u001b[39mTitle\n\u001b[0;32m     43\u001b[0m     ds_ml[dict_index][\u001b[38;5;124m'\u001b[39m\u001b[38;5;124mTrackTime\u001b[39m\u001b[38;5;124m'\u001b[39m] \u001b[38;5;241m=\u001b[39m ss\u001b[38;5;241m.\u001b[39moscar\u001b[38;5;241m.\u001b[39mlevel1\u001b[38;5;241m.\u001b[39mtrack_title_to_datetime(ds_ml[dict_index]\u001b[38;5;241m.\u001b[39mTitle)\n\u001b[1;32m---> 44\u001b[0m     ds_ml[dict_index][vars_to_keep] \u001b[38;5;241m=\u001b[39m \u001b[43mds_L1a\u001b[49m\u001b[43m[\u001b[49m\u001b[43mdict_index\u001b[49m\u001b[43m]\u001b[49m\u001b[43m[\u001b[49m\u001b[43mvars_to_keep\u001b[49m\u001b[43m]\u001b[49m\n\u001b[0;32m     45\u001b[0m ds_ml \u001b[38;5;241m=\u001b[39m ss\u001b[38;5;241m.\u001b[39moscar\u001b[38;5;241m.\u001b[39mlevel1\u001b[38;5;241m.\u001b[39mfill_missing_variables(ds_ml, antenna_ident)\n\u001b[0;32m     46\u001b[0m     \u001b[38;5;66;03m# Build L1b dataset\u001b[39;00m\n",
      "File \u001b[1;32m~\\anaconda3\\envs\\seastar\\lib\\site-packages\\xarray\\core\\dataset.py:1432\u001b[0m, in \u001b[0;36mDataset.__getitem__\u001b[1;34m(self, key)\u001b[0m\n\u001b[0;32m   1430\u001b[0m     \u001b[38;5;28;01mreturn\u001b[39;00m \u001b[38;5;28mself\u001b[39m\u001b[38;5;241m.\u001b[39m_construct_dataarray(key)\n\u001b[0;32m   1431\u001b[0m \u001b[38;5;28;01mif\u001b[39;00m utils\u001b[38;5;241m.\u001b[39miterable_of_hashable(key):\n\u001b[1;32m-> 1432\u001b[0m     \u001b[38;5;28;01mreturn\u001b[39;00m \u001b[38;5;28;43mself\u001b[39;49m\u001b[38;5;241;43m.\u001b[39;49m\u001b[43m_copy_listed\u001b[49m\u001b[43m(\u001b[49m\u001b[43mkey\u001b[49m\u001b[43m)\u001b[49m\n\u001b[0;32m   1433\u001b[0m \u001b[38;5;28;01mraise\u001b[39;00m \u001b[38;5;167;01mValueError\u001b[39;00m(\u001b[38;5;124mf\u001b[39m\u001b[38;5;124m\"\u001b[39m\u001b[38;5;124mUnsupported key-type \u001b[39m\u001b[38;5;132;01m{\u001b[39;00m\u001b[38;5;28mtype\u001b[39m(key)\u001b[38;5;132;01m}\u001b[39;00m\u001b[38;5;124m\"\u001b[39m)\n",
      "File \u001b[1;32m~\\anaconda3\\envs\\seastar\\lib\\site-packages\\xarray\\core\\dataset.py:1303\u001b[0m, in \u001b[0;36mDataset._copy_listed\u001b[1;34m(self, names)\u001b[0m\n\u001b[0;32m   1301\u001b[0m     variables[name] \u001b[38;5;241m=\u001b[39m \u001b[38;5;28mself\u001b[39m\u001b[38;5;241m.\u001b[39m_variables[name]\n\u001b[0;32m   1302\u001b[0m \u001b[38;5;28;01mexcept\u001b[39;00m \u001b[38;5;167;01mKeyError\u001b[39;00m:\n\u001b[1;32m-> 1303\u001b[0m     ref_name, var_name, var \u001b[38;5;241m=\u001b[39m \u001b[43m_get_virtual_variable\u001b[49m\u001b[43m(\u001b[49m\n\u001b[0;32m   1304\u001b[0m \u001b[43m        \u001b[49m\u001b[38;5;28;43mself\u001b[39;49m\u001b[38;5;241;43m.\u001b[39;49m\u001b[43m_variables\u001b[49m\u001b[43m,\u001b[49m\u001b[43m \u001b[49m\u001b[43mname\u001b[49m\u001b[43m,\u001b[49m\u001b[43m \u001b[49m\u001b[38;5;28;43mself\u001b[39;49m\u001b[38;5;241;43m.\u001b[39;49m\u001b[43mdims\u001b[49m\n\u001b[0;32m   1305\u001b[0m \u001b[43m    \u001b[49m\u001b[43m)\u001b[49m\n\u001b[0;32m   1306\u001b[0m     variables[var_name] \u001b[38;5;241m=\u001b[39m var\n\u001b[0;32m   1307\u001b[0m     \u001b[38;5;28;01mif\u001b[39;00m ref_name \u001b[38;5;129;01min\u001b[39;00m \u001b[38;5;28mself\u001b[39m\u001b[38;5;241m.\u001b[39m_coord_names \u001b[38;5;129;01mor\u001b[39;00m ref_name \u001b[38;5;129;01min\u001b[39;00m \u001b[38;5;28mself\u001b[39m\u001b[38;5;241m.\u001b[39mdims:\n",
      "File \u001b[1;32m~\\anaconda3\\envs\\seastar\\lib\\site-packages\\xarray\\core\\dataset.py:177\u001b[0m, in \u001b[0;36m_get_virtual_variable\u001b[1;34m(variables, key, dim_sizes)\u001b[0m\n\u001b[0;32m    175\u001b[0m split_key \u001b[38;5;241m=\u001b[39m key\u001b[38;5;241m.\u001b[39msplit(\u001b[38;5;124m\"\u001b[39m\u001b[38;5;124m.\u001b[39m\u001b[38;5;124m\"\u001b[39m, \u001b[38;5;241m1\u001b[39m)\n\u001b[0;32m    176\u001b[0m \u001b[38;5;28;01mif\u001b[39;00m \u001b[38;5;28mlen\u001b[39m(split_key) \u001b[38;5;241m!=\u001b[39m \u001b[38;5;241m2\u001b[39m:\n\u001b[1;32m--> 177\u001b[0m     \u001b[38;5;28;01mraise\u001b[39;00m \u001b[38;5;167;01mKeyError\u001b[39;00m(key)\n\u001b[0;32m    179\u001b[0m ref_name, var_name \u001b[38;5;241m=\u001b[39m split_key\n\u001b[0;32m    180\u001b[0m ref_var \u001b[38;5;241m=\u001b[39m variables[ref_name]\n",
      "\u001b[1;31mKeyError\u001b[0m: 'CentralWavenumber'"
     ]
    }
   ],
   "source": [
    "for flight in flights:\n",
    "    oscar_path = os.path.join(file_paths['oscar_path'], version, flight, 'matlab-pre-processed','')\n",
    "    file_time_triplets = ss.oscar.tools.find_file_triplets(oscar_path)\n",
    "    print('OSCAR L1 processing - data version ' + version + '\\n-------------------')\n",
    "    print('File path :', oscar_path + '\\n-------------------')\n",
    "    for i in range(len(file_time_triplets)):\n",
    "        print('File index :', i, ',', 'Aquisition time :', file_time_triplets[i][0], ',', 'File list indices :', file_time_triplets[i][1])\n",
    "    DAR_tracks = ss.utils.readers._read_DAR_config(flight)\n",
    "    ds_L1b = dict()\n",
    "    for track in DAR_tracks.keys():\n",
    "        ds_ml = dict()\n",
    "        file_index = DAR_tracks[track]\n",
    "        ds_L1a = ss.oscar.tools.load_OSCAR_data(oscar_path, file_time_triplets[file_index][1])\n",
    "        ds_L1a_dict_index = list(ds_L1a.keys())\n",
    "        antenna_ident = ss.oscar.tools.identify_antenna_location_from_filename(\n",
    "                            oscar_path,\n",
    "                            file_time_triplets[file_index][1])\n",
    "        antenna_dict = {list(ds_L1a.keys())[i]: antenna_ident[i] for i in range(len(antenna_ident))}\n",
    "        print('Processing file index',file_index,'...')\n",
    "        # L1b processing - loop through beams in L1a dataset dict\n",
    "        #--------------------------------------------------------\n",
    "        for dict_index in ds_L1a_dict_index:\n",
    "            ds_L1a[dict_index] = ss.oscar.level1.replace_dummy_values(\n",
    "                                     ds_L1a[dict_index],\n",
    "                                     dummy_val=int(ds_L1a[dict_index].Dummy.data))\n",
    "            ds_ml[dict_index] = ss.oscar.level1.compute_multilooking_Master_Slave(\n",
    "                                    ds_L1a[dict_index],\n",
    "                                    window=7)\n",
    "            #ds_ml[dict_index]['Polarization'] = ss.oscar.level1.check_antenna_polarization(ds_L1a[dict_index])\n",
    "            ds_ml[dict_index]['Polarization'] = xr.DataArray(data=np.full(ds_L1a[dict_index].IncidenceAngleImage.shape,\n",
    "                                                                  ss.oscar.level1.check_antenna_polarization(\n",
    "                                                                      ds_L1a[dict_index]).data),\n",
    "                                             coords=ds_L1a[dict_index].IncidenceAngleImage.coords,\n",
    "                                             dims=ds_L1a[dict_index].IncidenceAngleImage.dims)\n",
    "            ss.oscar.level1.check_antenna_polarization(ds_L1a[dict_index])\n",
    "            ds_ml[dict_index]['AntennaAzimuthImage'] =ss.oscar.level1.compute_antenna_azimuth_direction(\n",
    "                                                        ds_L1a[dict_index],\n",
    "                                                        antenna=antenna_ident[ds_L1a_dict_index.index(dict_index)])\n",
    "            ds_ml[dict_index]['TimeLag'] = ss.oscar.level1.compute_time_lag_Master_Slave(\n",
    "                                               ds_L1a[dict_index],\n",
    "                                               options='from_SAR_time')\n",
    "            ds_ml[dict_index].attrs['Title'] = ds_L1a[dict_index].Title\n",
    "            ds_ml[dict_index]['TrackTime'] = ss.oscar.level1.track_title_to_datetime(ds_ml[dict_index].Title)\n",
    "            ds_ml[dict_index][vars_to_keep] = ds_L1a[dict_index][vars_to_keep]\n",
    "        ds_ml = ss.oscar.level1.fill_missing_variables(ds_ml, antenna_ident)\n",
    "            # Build L1b dataset\n",
    "        ds_L1b[track] = ss.oscar.level1.merge_beams(ds_ml, antenna_ident)\n",
    "        ds_L1b[track].attrs['Codebase'] = 'seastar_project'\n",
    "        ds_L1b[track].attrs['Repository'] = 'https://github.com/NOC-EO/seastar_project'\n",
    "        ds_L1b[track].attrs['Code_version'] = __version__\n",
    "        ds_L1b[track].attrs['Data_version'] = version\n",
    "        print('Saving to disk...')\n",
    "        ds_L1b[track].to_netcdf(os.path.join(save_folder, flight + '_' + track +'_OSCAR_L1b.nc'))"
   ]
  },
  {
   "cell_type": "code",
   "execution_count": null,
   "id": "031135ca",
   "metadata": {},
   "outputs": [],
   "source": []
  }
 ],
 "metadata": {
  "kernelspec": {
   "display_name": "seastar",
   "language": "python",
   "name": "seastar"
  },
  "language_info": {
   "codemirror_mode": {
    "name": "ipython",
    "version": 3
   },
   "file_extension": ".py",
   "mimetype": "text/x-python",
   "name": "python",
   "nbconvert_exporter": "python",
   "pygments_lexer": "ipython3",
   "version": "3.8.16"
  }
 },
 "nbformat": 4,
 "nbformat_minor": 5
}
