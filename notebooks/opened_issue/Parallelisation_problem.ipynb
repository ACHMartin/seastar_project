{
 "cells": [
  {
   "cell_type": "code",
   "execution_count": 2,
   "id": "collectible-damages",
   "metadata": {},
   "outputs": [],
   "source": [
    "# use CEASELESS or seastar Kernel on adrien local laptop\n",
    "\n",
    "import os\n",
    "import xarray as xr\n",
    "import numpy as np\n",
    "import numpy.ma as ma\n",
    "import matplotlib.pyplot as plt\n",
    "import cartopy.crs as ccrs # => to add in Seastar env\n",
    "import seastar as ss\n",
    "#from seastar.utils.tools import dotdict\n",
    "from scipy import interpolate, stats # => to add in Seastar env ?\n",
    "from scipy.optimize import least_squares\n",
    "\n",
    "import time\n",
    "from parfor import parfor\n",
    "\n",
    "\n",
    "# from seastar.gmfs.doppler import *\n",
    "import pdb"
   ]
  },
  {
   "cell_type": "code",
   "execution_count": 109,
   "id": "7fa6b229",
   "metadata": {},
   "outputs": [
    {
     "data": {
      "text/plain": [
       "'0.20.1'"
      ]
     },
     "execution_count": 109,
     "metadata": {},
     "output_type": "execute_result"
    }
   ],
   "source": [
    "xr.__version__"
   ]
  },
  {
   "cell_type": "code",
   "execution_count": 2,
   "id": "2231f5c5",
   "metadata": {},
   "outputs": [],
   "source": [
    "import multiprocessing\n",
    "from multiprocessing.managers import BaseManager\n",
    "\n",
    "class MyManager(BaseManager): pass\n",
    "\n",
    "class dotdict(dict):\n",
    "    \"\"\"dot.notation access to dictionary attributes\"\"\"\n",
    "    __getattr__ = dict.get\n",
    "    __setattr__ = dict.__setitem__\n",
    "    __delattr__ = dict.__delitem__\n",
    "def Manager():\n",
    "    m = MyManager()\n",
    "    m.start()\n",
    "    return m\n",
    "\n",
    "MyManager.register('dotdict', dotdict)"
   ]
  },
  {
   "cell_type": "code",
   "execution_count": 3,
   "id": "50a32014",
   "metadata": {},
   "outputs": [],
   "source": [
    "SMALL_SIZE = 20\n",
    "MEDIUM_SIZE = 10\n",
    "BIGGER_SIZE = 12\n",
    "\n",
    "plt.rc('font', size=SMALL_SIZE)          # controls default text sizes\n",
    "plt.rc('axes', titlesize=SMALL_SIZE)     # fontsize of the axes title\n",
    "plt.rc('axes', labelsize=MEDIUM_SIZE)    # fontsize of the x and y labels\n",
    "plt.rc('xtick', labelsize=SMALL_SIZE)    # fontsize of the tick labels\n",
    "plt.rc('ytick', labelsize=SMALL_SIZE)    # fontsize of the tick labels\n",
    "plt.rc('legend', fontsize=SMALL_SIZE)    # legend fontsize\n",
    "plt.rc('figure', titlesize=BIGGER_SIZE)  # fontsize of the figure title"
   ]
  },
  {
   "cell_type": "code",
   "execution_count": 4,
   "id": "chinese-sleep",
   "metadata": {},
   "outputs": [],
   "source": [
    "level1 = xr.Dataset(\n",
    "    data_vars=dict(\n",
    "            CentralWavenumber=( [],270 ),\n",
    "            CentralFreq=( [], 13.5 * 10**9 ),\n",
    "            IncidenceAngleImage=( ['across','along','Antenna'], np.full([5,6,4], 30) ),\n",
    "            AntennaAzimuthImage=(['across', 'along', 'Antenna'],\n",
    "                           np.stack((np.full([5, 6], 45),\n",
    "                                     np.full([5, 6], 90),\n",
    "                                     np.full([5, 6], 90),\n",
    "                                     np.full([5, 6], 135)\n",
    "                                     ), axis=-1\n",
    "                                    )\n",
    "                           ),\n",
    "            Polarization=(['across', 'along','Antenna'],\n",
    "                          np.stack((np.full([5, 6], 'VV'),\n",
    "                                    np.full([5, 6], 'VV'),\n",
    "                                    np.full([5, 6], 'HH'),\n",
    "                                    np.full([5, 6], 'VV')\n",
    "                                    ), axis=-1\n",
    "                                   )\n",
    "                          ),\n",
    "#             Sigma0=( ['across','along','Antenna'], np.full([9,11,4], 1.01) ),\n",
    "#             dsig0=( ['across','along','Antenna'], np.full([9,11,4], 0.05) ),\n",
    "#             RVL=( ['across','along','Antenna'], np.full([9,11,4], 0.5) ),\n",
    "#             drvl=( ['across','along','Antenna'], np.full([9,11,4], 0.01) ),\n",
    "        ),\n",
    "    coords=dict(\n",
    "            across=np.arange(0,5),\n",
    "            along=np.arange(0,6),\n",
    "            Antenna=['Fore','MidV','MidH','Aft'],\n",
    "        ),\n",
    ")\n",
    "level1 = level1.set_coords([\n",
    "    'CentralWavenumber',\n",
    "    'CentralFreq',\n",
    "    'IncidenceAngleImage',\n",
    "    'AntennaAzimuthImage',\n",
    "    'Polarization', \n",
    "])\n"
   ]
  },
  {
   "cell_type": "code",
   "execution_count": 5,
   "id": "international-first",
   "metadata": {},
   "outputs": [],
   "source": [
    "geo = xr.Dataset(\n",
    "        data_vars=dict(\n",
    "            WindSpeed=(['across', 'along'], np.full([5, 6], 10)),\n",
    "            WindDirection=(['across', 'along'], np.full([5, 6], 150)),\n",
    "            CurrentVelocity=(['across', 'along'], np.full([5, 6], 1)),\n",
    "            CurrentDirection=(['across', 'along'], np.full([5, 6], 150)),\n",
    "        ),\n",
    "        coords=dict(\n",
    "            across=np.arange(0, 5),\n",
    "            along=np.arange(0, 6),\n",
    "        ),\n",
    "    )\n"
   ]
  },
  {
   "cell_type": "code",
   "execution_count": 6,
   "id": "activated-costs",
   "metadata": {},
   "outputs": [
    {
     "ename": "NameError",
     "evalue": "name 'dotdict' is not defined",
     "output_type": "error",
     "traceback": [
      "\u001b[1;31m---------------------------------------------------------------------------\u001b[0m",
      "\u001b[1;31mNameError\u001b[0m                                 Traceback (most recent call last)",
      "Input \u001b[1;32mIn [6]\u001b[0m, in \u001b[0;36m<cell line: 1>\u001b[1;34m()\u001b[0m\n\u001b[1;32m----> 1\u001b[0m gmf\u001b[38;5;241m=\u001b[39m\u001b[43mdotdict\u001b[49m({\u001b[38;5;124m'\u001b[39m\u001b[38;5;124mnrcs\u001b[39m\u001b[38;5;124m'\u001b[39m: dotdict({\u001b[38;5;124m'\u001b[39m\u001b[38;5;124mname\u001b[39m\u001b[38;5;124m'\u001b[39m: \u001b[38;5;124m'\u001b[39m\u001b[38;5;124mnscat4ds\u001b[39m\u001b[38;5;124m'\u001b[39m})})\n\u001b[0;32m      2\u001b[0m gmf[\u001b[38;5;124m'\u001b[39m\u001b[38;5;124mdoppler\u001b[39m\u001b[38;5;124m'\u001b[39m] \u001b[38;5;241m=\u001b[39m dotdict({\u001b[38;5;124m'\u001b[39m\u001b[38;5;124mname\u001b[39m\u001b[38;5;124m'\u001b[39m: \u001b[38;5;124m'\u001b[39m\u001b[38;5;124mmouche12\u001b[39m\u001b[38;5;124m'\u001b[39m})\n",
      "\u001b[1;31mNameError\u001b[0m: name 'dotdict' is not defined"
     ]
    }
   ],
   "source": [
    "gmf=dotdict({'nrcs': dotdict({'name': 'nscat4ds'})})\n",
    "gmf['doppler'] = dotdict({'name': 'mouche12'})"
   ]
  },
  {
   "cell_type": "code",
   "execution_count": 37,
   "id": "99a68fe9",
   "metadata": {},
   "outputs": [],
   "source": [
    "gmf_doppler = xr.Dataset()\n",
    "gmf_doppler['name'] = 'mouche12'\n",
    "gmf_nrcs = xr.Dataset()\n",
    "gmf_nrcs['name'] = 'nscat4ds'"
   ]
  },
  {
   "cell_type": "code",
   "execution_count": 40,
   "id": "thorough-hepatitis",
   "metadata": {},
   "outputs": [],
   "source": [
    "level1['Sigma0'] = ss.gmfs.nrcs.compute_nrcs(level1, geo, gmf_nrcs)*1.001"
   ]
  },
  {
   "cell_type": "code",
   "execution_count": 41,
   "id": "twenty-pencil",
   "metadata": {},
   "outputs": [],
   "source": [
    "model_rsv_list = [None] * level1.Antenna.size\n",
    "model_wasv_list = [None] * level1.Antenna.size\n",
    "for aa, ant in enumerate(level1.Antenna.data):\n",
    "#     model_wasv_list[aa] = ss.gmfs.doppler.compute_wasv(level1.sel(Antenna=ant), geo, gmf=gmf.doppler.name)\n",
    "    model_rsv_list[aa] = ss.gmfs.doppler.compute_total_surface_motion(level1.sel(Antenna=ant), geo, gmf=gmf_doppler)\n",
    "# level1['WASV'] = xr.concat(model_wasv_list, dim='Antenna')*1.001\n",
    "level1['RSV'] = xr.concat(model_rsv_list, dim='Antenna')*1.001"
   ]
  },
  {
   "cell_type": "code",
   "execution_count": 42,
   "id": "tropical-community",
   "metadata": {},
   "outputs": [],
   "source": [
    "noise = level1.drop_vars([var for var in level1.data_vars])\n",
    "# noise = level1.drop_vars(['Sigma0','dsig0','RVL','drvl'])\n",
    "noise['Sigma0'] = level1.Sigma0*0.05\n",
    "noise['RSV'] = level1.RSV*0.05"
   ]
  },
  {
   "cell_type": "code",
   "execution_count": 43,
   "id": "indoor-coating",
   "metadata": {},
   "outputs": [],
   "source": [
    "# [geo['U'], geo['V']] = ss.utils.tools.windSpeedDir2UV(geo.WindSpeed, geo.WindDirection)\n",
    "# [geo['C_U'], geo['C_V']] = ss.utils.tools.currentVelDir2UV(geo.CurrentVelocity, geo.CurrentDirection)"
   ]
  },
  {
   "cell_type": "markdown",
   "id": "sunset-daughter",
   "metadata": {},
   "source": [
    "# Test wind_current_retrieval"
   ]
  },
  {
   "cell_type": "code",
   "execution_count": 52,
   "id": "confirmed-manitoba",
   "metadata": {},
   "outputs": [
    {
     "data": {
      "text/plain": [
       "{'name': 'sort_by_cost'}"
      ]
     },
     "execution_count": 52,
     "metadata": {},
     "output_type": "execute_result"
    }
   ],
   "source": [
    "sL1 = level1.isel(along=slice(0,2), across=slice(0,2))\n",
    "sN = noise.isel(along=slice(0,2), across=slice(0,2))  # Pass wind_current_retrieval\n",
    "ambiguity = {'name':'sort_by_cost'} \n",
    "ambiguity"
   ]
  },
  {
   "cell_type": "code",
   "execution_count": 44,
   "id": "c894bc96",
   "metadata": {},
   "outputs": [],
   "source": [
    "list_L1s0 = list(level1.Sigma0.dims)\n",
    "list_L1s0.remove('Antenna')\n",
    "level1_stack = level1.stack(z=tuple(list_L1s0))\n",
    "noise_stack = noise.stack(z=tuple(list_L1s0))\n",
    "lmoutmap = [None] * level1_stack.z.size\n",
    "input_mp = [None] * level1_stack.z.size\n",
    "for ii in range(level1_stack.z.size):\n",
    "    input_mp[ii] = dict({\n",
    "        'level1': level1_stack.isel(z=ii),\n",
    "        'noise': noise_stack.isel(z=ii),\n",
    "        'gmf_doppler': gmf_doppler,\n",
    "        'gmf_nrcs': gmf_nrcs,\n",
    "    })\n"
   ]
  },
  {
   "cell_type": "markdown",
   "id": "60285b40",
   "metadata": {},
   "source": [
    "# Serial implementation of simple least_squares function"
   ]
  },
  {
   "cell_type": "code",
   "execution_count": 40,
   "id": "6f727730",
   "metadata": {},
   "outputs": [
    {
     "name": "stdout",
     "output_type": "stream",
     "text": [
      "Serial execution of 1 completed in 0.0033998489379882812 seconds\n"
     ]
    },
    {
     "data": {
      "text/plain": [
       " active_mask: array([0., 0.])\n",
       "        cost: 0.0\n",
       "         fun: array([0., 0.])\n",
       "        grad: array([0., 0.])\n",
       "         jac: array([[-20.00000015,  10.        ],\n",
       "       [ -1.        ,   0.        ]])\n",
       "     message: '`gtol` termination condition is satisfied.'\n",
       "        nfev: 4\n",
       "        njev: 4\n",
       "  optimality: 0.0\n",
       "      status: 1\n",
       "     success: True\n",
       "           x: array([1., 1.])"
      ]
     },
     "execution_count": 40,
     "metadata": {},
     "output_type": "execute_result"
    }
   ],
   "source": [
    "# Example function from SciPy\n",
    "def fun_rosenbrock(x):\n",
    "    return np.array([10 * (x[1] - x[0]**2), (1 - x[0])])\n",
    "import random\n",
    "i = 1\n",
    "x0_rosenbrock = np.random.rand(i,2)+2\n",
    "\n",
    "results_sp = [None] * len(x0_rosenbrock)\n",
    "t = time.time()\n",
    "for ii in range (len(results_sp)):\n",
    "    x0 = x0_rosenbrock[ii,:]\n",
    "    results_sp[ii] = least_squares(fun_rosenbrock,\n",
    "                      x0)\n",
    "\n",
    "print('Serial execution of',len(results_sp),  'completed in', time.time()-t, 'seconds')\n",
    "\n",
    "results_sp[0]\n",
    "# if __name__ == '__main__':\n",
    "#     @parfor(range(10), (3,))\n",
    "#     def par_task(i, a):\n",
    "#         return a*i**2\n",
    "#     print(fun)\n"
   ]
  },
  {
   "cell_type": "code",
   "execution_count": 41,
   "id": "0d79ff60",
   "metadata": {
    "scrolled": false
   },
   "outputs": [
    {
     "data": {
      "application/vnd.jupyter.widget-view+json": {
       "model_id": "928fed7c1d234125b54b94d0524c730d",
       "version_major": 2,
       "version_minor": 0
      },
      "text/plain": [
       "  0%|          | 0/1 [00:00<?, ?it/s]"
      ]
     },
     "metadata": {},
     "output_type": "display_data"
    },
    {
     "name": "stdout",
     "output_type": "stream",
     "text": [
      "MPI execution of 1 completed in 0.03968501091003418 seconds\n"
     ]
    },
    {
     "data": {
      "text/plain": [
       " active_mask: array([0., 0.])\n",
       "        cost: 0.0\n",
       "         fun: array([0., 0.])\n",
       "        grad: array([0., 0.])\n",
       "         jac: array([[-20.00000015,  10.        ],\n",
       "       [ -1.        ,   0.        ]])\n",
       "     message: '`gtol` termination condition is satisfied.'\n",
       "        nfev: 4\n",
       "        njev: 4\n",
       "  optimality: 0.0\n",
       "      status: 1\n",
       "     success: True\n",
       "           x: array([1., 1.])"
      ]
     },
     "execution_count": 41,
     "metadata": {},
     "output_type": "execute_result"
    }
   ],
   "source": [
    "t = time.time()\n",
    "results_mp = [None] * len(x0_rosenbrock)\n",
    "if __name__ == '__main__':\n",
    "    @parfor(x0_rosenbrock, nP=4)\n",
    "    def fun(x0):\n",
    "        #results_mp = x0_rosenbrock[i] + 1\n",
    "        #x0 = x0_rosenbrock[i]\n",
    "        results_mp = least_squares(fun_rosenbrock, x0)\n",
    "        return results_mp\n",
    "print('MPI execution of',len(results_sp),  'completed in', time.time()-t, 'seconds')\n",
    "fun[0]"
   ]
  },
  {
   "cell_type": "markdown",
   "id": "6783cf97",
   "metadata": {},
   "source": [
    "# Testing geometrically increasing iterations in simplest least_squares case"
   ]
  },
  {
   "cell_type": "code",
   "execution_count": 42,
   "id": "063dac85",
   "metadata": {},
   "outputs": [
    {
     "name": "stdout",
     "output_type": "stream",
     "text": [
      "Serial execution of 1 completed in 0.010082244873046875 seconds\n"
     ]
    },
    {
     "data": {
      "application/vnd.jupyter.widget-view+json": {
       "model_id": "502c6194ad194ed4bb7d4df5ea15aa15",
       "version_major": 2,
       "version_minor": 0
      },
      "text/plain": [
       "  0%|          | 0/1 [00:00<?, ?it/s]"
      ]
     },
     "metadata": {},
     "output_type": "display_data"
    },
    {
     "name": "stdout",
     "output_type": "stream",
     "text": [
      "MPI execution of 1 completed in 0.03189420700073242 seconds\n",
      "Serial execution of 10 completed in 0.018950939178466797 seconds\n"
     ]
    },
    {
     "data": {
      "application/vnd.jupyter.widget-view+json": {
       "model_id": "325561a879b949209b3af52b9c5e31c8",
       "version_major": 2,
       "version_minor": 0
      },
      "text/plain": [
       "  0%|          | 0/10 [00:00<?, ?it/s]"
      ]
     },
     "metadata": {},
     "output_type": "display_data"
    },
    {
     "name": "stdout",
     "output_type": "stream",
     "text": [
      "MPI execution of 10 completed in 14.594474792480469 seconds\n",
      "Serial execution of 100 completed in 0.08016037940979004 seconds\n"
     ]
    },
    {
     "data": {
      "application/vnd.jupyter.widget-view+json": {
       "model_id": "489c3b7b04a7440290f812377156278e",
       "version_major": 2,
       "version_minor": 0
      },
      "text/plain": [
       "  0%|          | 0/100 [00:00<?, ?it/s]"
      ]
     },
     "metadata": {},
     "output_type": "display_data"
    },
    {
     "name": "stdout",
     "output_type": "stream",
     "text": [
      "MPI execution of 100 completed in 52.78153109550476 seconds\n",
      "Serial execution of 1000 completed in 0.8260233402252197 seconds\n"
     ]
    },
    {
     "data": {
      "application/vnd.jupyter.widget-view+json": {
       "model_id": "e389ffe096194e4fb8144353c66e0b1d",
       "version_major": 2,
       "version_minor": 0
      },
      "text/plain": [
       "  0%|          | 0/1000 [00:00<?, ?it/s]"
      ]
     },
     "metadata": {},
     "output_type": "display_data"
    },
    {
     "name": "stdout",
     "output_type": "stream",
     "text": [
      "MPI execution of 1000 completed in 52.08970618247986 seconds\n",
      "Serial execution of 10000 completed in 8.56774640083313 seconds\n"
     ]
    },
    {
     "data": {
      "application/vnd.jupyter.widget-view+json": {
       "model_id": "facfcdf1eb26499b9c2853538d2147e6",
       "version_major": 2,
       "version_minor": 0
      },
      "text/plain": [
       "  0%|          | 0/10000 [00:00<?, ?it/s]"
      ]
     },
     "metadata": {},
     "output_type": "display_data"
    },
    {
     "name": "stdout",
     "output_type": "stream",
     "text": [
      "MPI execution of 10000 completed in 67.09905481338501 seconds\n",
      "Serial execution of 100000 completed in 91.60850977897644 seconds\n"
     ]
    },
    {
     "data": {
      "application/vnd.jupyter.widget-view+json": {
       "model_id": "f85597d45aa340f2a97fc59179a823f2",
       "version_major": 2,
       "version_minor": 0
      },
      "text/plain": [
       "  0%|          | 0/100000 [00:00<?, ?it/s]"
      ]
     },
     "metadata": {},
     "output_type": "display_data"
    },
    {
     "name": "stdout",
     "output_type": "stream",
     "text": [
      "MPI execution of 100000 completed in 99.67087817192078 seconds\n",
      "Serial execution of 1000000 completed in 1032.4878170490265 seconds\n"
     ]
    },
    {
     "data": {
      "application/vnd.jupyter.widget-view+json": {
       "model_id": "ccc276bc389f4b488d87d87dcc6c58bf",
       "version_major": 2,
       "version_minor": 0
      },
      "text/plain": [
       "  0%|          | 0/1000000 [00:00<?, ?it/s]"
      ]
     },
     "metadata": {},
     "output_type": "display_data"
    },
    {
     "name": "stdout",
     "output_type": "stream",
     "text": [
      "MPI execution of 1000000 completed in 505.5585813522339 seconds\n"
     ]
    }
   ],
   "source": [
    "iteration = [1, 10, 100, 1000, 10000, 100000, 1000000]\n",
    "sp_time=[]\n",
    "mp_time=[]\n",
    "for ii, i in enumerate(iteration):\n",
    "    x0_rosenbrock = np.random.rand(i,2)+2\n",
    "\n",
    "    results_sp = [None] * len(x0_rosenbrock)\n",
    "    t = time.time()\n",
    "    for ii in range (len(results_sp)):\n",
    "        x0 = x0_rosenbrock[ii,:]\n",
    "        results_sp[ii] = least_squares(fun_rosenbrock,\n",
    "                      x0)\n",
    "    sp_time.append(time.time()-t)\n",
    "    print('Serial execution of',len(results_sp),  'completed in', time.time()-t, 'seconds')\n",
    "    \n",
    "    t = time.time()\n",
    "    results_mp = [None] * len(x0_rosenbrock)\n",
    "    if __name__ == '__main__':\n",
    "        @parfor(x0_rosenbrock, nP=4)\n",
    "        def fun(x0):\n",
    "            results_mp = least_squares(fun_rosenbrock, x0)\n",
    "            return results_mp\n",
    "    mp_time.append(time.time()-t)\n",
    "    print('MPI execution of',len(results_sp),  'completed in', time.time()-t, 'seconds')"
   ]
  },
  {
   "cell_type": "code",
   "execution_count": 60,
   "id": "4b92dd2a",
   "metadata": {},
   "outputs": [
    {
     "data": {
      "text/plain": [
       "<matplotlib.legend.Legend at 0x18759f3dcd0>"
      ]
     },
     "execution_count": 60,
     "metadata": {},
     "output_type": "execute_result"
    },
    {
     "data": {
      "image/png": "[encoded data removed]",
      "text/plain": [
       "<Figure size 576x576 with 1 Axes>"
      ]
     },
     "metadata": {
      "needs_background": "light"
     },
     "output_type": "display_data"
    }
   ],
   "source": [
    "fig = plt.figure(figsize=(8,8))\n",
    "ax = fig.add_subplot(1,1,1)\n",
    "plt.plot(iteration, np.array(sp_time)/60, label='Serial')\n",
    "plt.plot(iteration, np.array(mp_time)/60, label='MPI')\n",
    "plt.xscale('log')\n",
    "plt.xticks(iteration)\n",
    "plt.xlabel('Iterations', fontsize=20)\n",
    "plt.ylabel('Computation time (minutes)', fontsize=20)\n",
    "plt.legend()"
   ]
  },
  {
   "cell_type": "code",
   "execution_count": 101,
   "id": "3540f5f1",
   "metadata": {
    "scrolled": true
   },
   "outputs": [
    {
     "data": {
      "application/vnd.jupyter.widget-view+json": {
       "model_id": "35e05cdbfe5840298174d61eabc60b7f",
       "version_major": 2,
       "version_minor": 0
      },
      "text/plain": [
       "  0%|          | 0/100 [00:00<?, ?it/s]"
      ]
     },
     "metadata": {},
     "output_type": "display_data"
    },
    {
     "name": "stdout",
     "output_type": "stream",
     "text": [
      "MPI execution of 100 completed in 64.86836361885071 seconds\n"
     ]
    },
    {
     "data": {
      "text/plain": [
       " active_mask: array([0., 0.])\n",
       "        cost: 2.465190328815662e-30\n",
       "         fun: array([2.22044605e-15, 0.00000000e+00])\n",
       "        grad: array([-4.44089213e-14,  2.22044605e-14])\n",
       "         jac: array([[-20.00000015,  10.        ],\n",
       "       [ -1.        ,   0.        ]])\n",
       "     message: '`gtol` termination condition is satisfied.'\n",
       "        nfev: 3\n",
       "        njev: 3\n",
       "  optimality: 4.4408921315878507e-14\n",
       "      status: 1\n",
       "     success: True\n",
       "           x: array([1., 1.])"
      ]
     },
     "execution_count": 101,
     "metadata": {},
     "output_type": "execute_result"
    }
   ],
   "source": [
    "i=100\n",
    "input_mpi = [xr.DataArray(data=np.random.rand(2)+2) for ii in range(i)]\n",
    "results_sp = [None] * len(input_mpi)\n",
    "# t = time.time()\n",
    "# for ii in range (len(results_sp)):\n",
    "#     x0 = x0_rosenbrock[ii,:]\n",
    "#     results_sp[ii] = least_squares(fun_rosenbrock,x0)\n",
    "# sp_time.append(time.time()-t)\n",
    "# print('Serial execution of',len(results_sp),  'completed in', time.time()-t, 'seconds')\n",
    "\n",
    "t = time.time()\n",
    "results_mp = [None] * len(input_mpi)\n",
    "if __name__ == '__main__':\n",
    "    @parfor(input_mpi, nP=4)\n",
    "    def fun(x0):\n",
    "        x0_i = x0.data\n",
    "        print(x0_i)\n",
    "        results_mp = least_squares(fun_rosenbrock, x0_i)\n",
    "        return results_mp\n",
    "#mp_time.append(time.time()-t)\n",
    "print('MPI execution of',len(results_sp),  'completed in', time.time()-t, 'seconds')\n",
    "fun[0]"
   ]
  },
  {
   "cell_type": "code",
   "execution_count": 6,
   "id": "143f5534",
   "metadata": {},
   "outputs": [],
   "source": [
    "import multiprocessing\n",
    "from multiprocessing.managers import BaseManager\n",
    "\n",
    "class MyManager(BaseManager): pass\n",
    "\n",
    "\n",
    "\n",
    "class dotdict(dict):\n",
    "    \"\"\"dot.notation access to dictionary attributes\"\"\"\n",
    "    __getattr__ = dict.get\n",
    "    __setattr__ = dict.__setitem__\n",
    "    __delattr__ = dict.__delitem__\n",
    "def Manager():\n",
    "    m = MyManager()\n",
    "    m.start()\n",
    "    return m\n",
    "\n",
    "MyManager.register('dotdict', dotdict)"
   ]
  },
  {
   "cell_type": "code",
   "execution_count": 53,
   "id": "16d53645",
   "metadata": {},
   "outputs": [
    {
     "data": {
      "text/plain": [
       "{'name': 'sort_by_cost'}"
      ]
     },
     "execution_count": 53,
     "metadata": {},
     "output_type": "execute_result"
    }
   ],
   "source": [
    "ambiguity"
   ]
  },
  {
   "cell_type": "code",
   "execution_count": 47,
   "id": "fe0d71d0",
   "metadata": {
    "scrolled": false
   },
   "outputs": [
    {
     "data": {
      "application/vnd.jupyter.widget-view+json": {
       "model_id": "8d36d5f2a25d4946be86c7db85539cf8",
       "version_major": 2,
       "version_minor": 0
      },
      "text/plain": [
       "  0%|          | 0/30 [00:00<?, ?it/s]"
      ]
     },
     "metadata": {},
     "output_type": "display_data"
    },
    {
     "name": "stdout",
     "output_type": "stream",
     "text": [
      "MPI execution of 30 completed in 104.23540091514587 seconds\n"
     ]
    }
   ],
   "source": [
    "list_L1s0 = list(level1.Sigma0.dims)\n",
    "list_L1s0.remove('Antenna')\n",
    "\n",
    "level1_stack = level1.stack(z=tuple(list_L1s0))\n",
    "noise_stack = noise.stack(z=tuple(list_L1s0))\n",
    "\n",
    "# sl1 = element['level1']\n",
    "# sn = element['noise']\n",
    "\n",
    "lmoutmap = [None] * level1_stack.z.size\n",
    "input_mp = [None] * level1_stack.z.size\n",
    "for ii in range(level1_stack.z.size):\n",
    "    input_mp[ii] = dict({\n",
    "        'level1': level1_stack.isel(z=ii),\n",
    "        'noise': noise_stack.isel(z=ii),\n",
    "        'gmf_doppler': gmf_doppler,\n",
    "        'gmf_nrcs': gmf_nrcs,\n",
    "        'ambiguity': ambiguity\n",
    "    })\n",
    "\n",
    "t = time.time()\n",
    "\n",
    "results_mp = [None] * len(input_mp)\n",
    "if __name__ == '__main__':\n",
    "    @parfor(input_mp, nP=4)\n",
    "    def fun(input_mp):\n",
    "        level1_pixel = input_mp['level1']\n",
    "        noise_pixel = input_mp['noise']\n",
    "        gmf_nrcs = input_mp['gmf_nrcs']\n",
    "        gmf_doppler = input_mp['gmf_doppler']\n",
    "        opt = {\n",
    "        'method': 'trf', # Trust Region Reflective algorithm, particularly suitable for large sparse problems with bounds. Generally robust method.\n",
    "        'xtol':  1e-3, # Tolerance for termination by the change of the independent variables\n",
    "        'x_scale': [7,7,.5,.5], # Characteristic scale of each variable.\n",
    "        'bounds': ([-30,-30,-5,-5], [30,30,5,5]),\n",
    "        } # if modified => change optionLeastSquares2dataset() below\n",
    "        init = [None] * 4\n",
    "        init[0] = dotdict({\n",
    "            'x0': [ 7*np.random.normal(), #u\n",
    "                   7*np.random.normal(), #v\n",
    "                   0, # c_u\n",
    "                   0 ]  # c_v\n",
    "        })\n",
    "        lmout = [None] * 4\n",
    "        lmout_dict = least_squares(fun_residual,\n",
    "                                   init[0].x0,\n",
    "                                   args=(level1_pixel, noise_pixel, gmf_doppler, gmf_nrcs),\n",
    "                                   **opt\n",
    "                                  )\n",
    "        lmout[0] = optimizeResults2dataset(lmout_dict, init[0].x0, level1_pixel)\n",
    "\n",
    "        return lmout\n",
    "    \n",
    "    \n",
    "    \n",
    "\n",
    "print('MPI execution of',len(fun),  'completed in', time.time()-t, 'seconds')"
   ]
  },
  {
   "cell_type": "markdown",
   "id": "e01f3dc2",
   "metadata": {},
   "source": [
    "# Full SciRec parallel testbed"
   ]
  },
  {
   "cell_type": "code",
   "execution_count": 63,
   "id": "fd3f6a72",
   "metadata": {},
   "outputs": [
    {
     "data": {
      "application/vnd.jupyter.widget-view+json": {
       "model_id": "b9e46465a167494aa92f12801a6d4969",
       "version_major": 2,
       "version_minor": 0
      },
      "text/plain": [
       "  0%|          | 0/30 [00:00<?, ?it/s]"
      ]
     },
     "metadata": {},
     "output_type": "display_data"
    }
   ],
   "source": [
    "list_L1s0 = list(level1.Sigma0.dims)\n",
    "list_L1s0.remove('Antenna')\n",
    "\n",
    "level1_stack = level1.stack(z=tuple(list_L1s0))\n",
    "noise_stack = noise.stack(z=tuple(list_L1s0))\n",
    "\n",
    "lmoutmap = [None] * level1_stack.z.size\n",
    "input_mp = [None] * level1_stack.z.size\n",
    "for ii in range(level1_stack.z.size):\n",
    "    input_mp[ii] = dict({\n",
    "        'level1': level1_stack.isel(z=ii),\n",
    "        'noise': noise_stack.isel(z=ii),\n",
    "        'gmf_doppler': gmf_doppler,\n",
    "        'gmf_nrcs': gmf_nrcs,\n",
    "        'ambiguity': ambiguity\n",
    "    })\n",
    "\n",
    "\n",
    "if __name__ == '__main__':\n",
    "    @parfor(input_mp, nP=4)\n",
    "    def fun(input_mp):\n",
    "        level1_pixel = input_mp['level1']\n",
    "        noise_pixel = input_mp['noise']\n",
    "        gmf_nrcs = input_mp['gmf_nrcs']\n",
    "        gmf_doppler = input_mp['gmf_doppler']\n",
    "        ambiguity = input_mp['ambiguity']\n",
    "        l2 = wind_current_retrieval(level1_pixel, noise_pixel, gmf_doppler, gmf_nrcs, ambiguity)\n",
    "        return l2"
   ]
  },
  {
   "cell_type": "code",
   "execution_count": 106,
   "id": "61d57dd9",
   "metadata": {},
   "outputs": [
    {
     "name": "stdout",
     "output_type": "stream",
     "text": [
      "--Return--\n",
      "None\n",
      "> \u001b[1;32mc:\\users\\davidmccann\\appdata\\local\\temp\\ipykernel_21832\\1053987086.py\u001b[0m(1)\u001b[0;36m<cell line: 1>\u001b[1;34m()\u001b[0m\n",
      "\n",
      "ipdb> c\n"
     ]
    },
    {
     "data": {
      "application/vnd.jupyter.widget-view+json": {
       "model_id": "84d9d3fd42254907a057b6d3dc89ff12",
       "version_major": 2,
       "version_minor": 0
      },
      "text/plain": [
       "  0%|          | 0/30 [00:00<?, ?it/s]"
      ]
     },
     "metadata": {},
     "output_type": "display_data"
    },
    {
     "ename": "ValueError",
     "evalue": "cannot unstack dimensions that do not have a MultiIndex: ['z']",
     "output_type": "error",
     "traceback": [
      "\u001b[1;31m---------------------------------------------------------------------------\u001b[0m",
      "\u001b[1;31mValueError\u001b[0m                                Traceback (most recent call last)",
      "Input \u001b[1;32mIn [106]\u001b[0m, in \u001b[0;36m<cell line: 2>\u001b[1;34m()\u001b[0m\n\u001b[0;32m      1\u001b[0m pdb\u001b[38;5;241m.\u001b[39mset_trace()\n\u001b[1;32m----> 2\u001b[0m l2 \u001b[38;5;241m=\u001b[39m \u001b[43mwind_current_retrieval\u001b[49m\u001b[43m(\u001b[49m\u001b[43mlevel1\u001b[49m\u001b[43m,\u001b[49m\u001b[43m \u001b[49m\u001b[43mnoise\u001b[49m\u001b[43m,\u001b[49m\u001b[43m \u001b[49m\u001b[43mgmf_doppler\u001b[49m\u001b[43m,\u001b[49m\u001b[43m \u001b[49m\u001b[43mgmf_nrcs\u001b[49m\u001b[43m,\u001b[49m\u001b[43m \u001b[49m\u001b[43mambiguity\u001b[49m\u001b[43m)\u001b[49m\n",
      "Input \u001b[1;32mIn [105]\u001b[0m, in \u001b[0;36mwind_current_retrieval\u001b[1;34m(level1, noise, gmf_doppler, gmf_nrcs, ambiguity)\u001b[0m\n\u001b[0;32m      8\u001b[0m \u001b[38;5;28;01mdef\u001b[39;00m \u001b[38;5;21mwind_current_retrieval\u001b[39m(level1, noise, gmf_doppler, gmf_nrcs, ambiguity):\n\u001b[1;32m----> 9\u001b[0m     lmout \u001b[38;5;241m=\u001b[39m \u001b[43mrun_find_minima\u001b[49m\u001b[43m(\u001b[49m\u001b[43mlevel1\u001b[49m\u001b[43m,\u001b[49m\u001b[43m \u001b[49m\u001b[43mnoise\u001b[49m\u001b[43m,\u001b[49m\u001b[43m \u001b[49m\u001b[43mgmf_doppler\u001b[49m\u001b[43m,\u001b[49m\u001b[43m \u001b[49m\u001b[43mgmf_nrcs\u001b[49m\u001b[43m)\u001b[49m\n\u001b[0;32m     10\u001b[0m     sol \u001b[38;5;241m=\u001b[39m ss\u001b[38;5;241m.\u001b[39mretrieval\u001b[38;5;241m.\u001b[39mambiguity_removal\u001b[38;5;241m.\u001b[39msolve_ambiguity(lmout, ambiguity)\n\u001b[0;32m     11\u001b[0m     level2 \u001b[38;5;241m=\u001b[39m sol2level2(sol)\n",
      "Input \u001b[1;32mIn [105]\u001b[0m, in \u001b[0;36mrun_find_minima\u001b[1;34m(level1, noise, gmf_doppler, gmf_nrcs)\u001b[0m\n\u001b[0;32m     41\u001b[0m         lmmap\u001b[38;5;241m.\u001b[39mset_index({dim:dim \u001b[38;5;28;01mfor\u001b[39;00m dim \u001b[38;5;129;01min\u001b[39;00m list_L1s0}) \n\u001b[0;32m     42\u001b[0m \u001b[38;5;66;03m#         lmmap = lmmap.set_index(z=list_L1s0)\u001b[39;00m\n\u001b[1;32m---> 43\u001b[0m         sol \u001b[38;5;241m=\u001b[39m \u001b[43mlmmap\u001b[49m\u001b[38;5;241;43m.\u001b[39;49m\u001b[43munstack\u001b[49m\u001b[43m(\u001b[49m\u001b[43mdim\u001b[49m\u001b[38;5;241;43m=\u001b[39;49m\u001b[38;5;124;43m'\u001b[39;49m\u001b[38;5;124;43mz\u001b[39;49m\u001b[38;5;124;43m'\u001b[39;49m\u001b[43m)\u001b[49m\n\u001b[0;32m     44\u001b[0m     \u001b[38;5;28;01melif\u001b[39;00m \u001b[38;5;28mlen\u001b[39m(list_L1s0) \u001b[38;5;241m==\u001b[39m \u001b[38;5;241m1\u001b[39m:  \u001b[38;5;66;03m# 1d\u001b[39;00m\n\u001b[0;32m     45\u001b[0m         length \u001b[38;5;241m=\u001b[39m level1[list_L1s0[\u001b[38;5;241m0\u001b[39m]]\u001b[38;5;241m.\u001b[39msize\n",
      "File \u001b[1;32m~\\anaconda3\\lib\\site-packages\\xarray\\core\\dataset.py:4173\u001b[0m, in \u001b[0;36mDataset.unstack\u001b[1;34m(self, dim, fill_value, sparse)\u001b[0m\n\u001b[0;32m   4169\u001b[0m     non_multi_dims \u001b[38;5;241m=\u001b[39m [\n\u001b[0;32m   4170\u001b[0m         d \u001b[38;5;28;01mfor\u001b[39;00m d \u001b[38;5;129;01min\u001b[39;00m dims \u001b[38;5;28;01mif\u001b[39;00m \u001b[38;5;129;01mnot\u001b[39;00m \u001b[38;5;28misinstance\u001b[39m(\u001b[38;5;28mself\u001b[39m\u001b[38;5;241m.\u001b[39mget_index(d), pd\u001b[38;5;241m.\u001b[39mMultiIndex)\n\u001b[0;32m   4171\u001b[0m     ]\n\u001b[0;32m   4172\u001b[0m     \u001b[38;5;28;01mif\u001b[39;00m non_multi_dims:\n\u001b[1;32m-> 4173\u001b[0m         \u001b[38;5;28;01mraise\u001b[39;00m \u001b[38;5;167;01mValueError\u001b[39;00m(\n\u001b[0;32m   4174\u001b[0m             \u001b[38;5;124m\"\u001b[39m\u001b[38;5;124mcannot unstack dimensions that do not \u001b[39m\u001b[38;5;124m\"\u001b[39m\n\u001b[0;32m   4175\u001b[0m             \u001b[38;5;124mf\u001b[39m\u001b[38;5;124m\"\u001b[39m\u001b[38;5;124mhave a MultiIndex: \u001b[39m\u001b[38;5;132;01m{\u001b[39;00mnon_multi_dims\u001b[38;5;132;01m}\u001b[39;00m\u001b[38;5;124m\"\u001b[39m\n\u001b[0;32m   4176\u001b[0m         )\n\u001b[0;32m   4178\u001b[0m result \u001b[38;5;241m=\u001b[39m \u001b[38;5;28mself\u001b[39m\u001b[38;5;241m.\u001b[39mcopy(deep\u001b[38;5;241m=\u001b[39m\u001b[38;5;28;01mFalse\u001b[39;00m)\n\u001b[0;32m   4180\u001b[0m \u001b[38;5;66;03m# we want to avoid allocating an object-dtype ndarray for a MultiIndex,\u001b[39;00m\n\u001b[0;32m   4181\u001b[0m \u001b[38;5;66;03m# so we can't just access self.variables[v].data for every variable.\u001b[39;00m\n\u001b[0;32m   4182\u001b[0m \u001b[38;5;66;03m# We only check the non-index variables.\u001b[39;00m\n\u001b[0;32m   4183\u001b[0m \u001b[38;5;66;03m# https://github.com/pydata/xarray/issues/5902\u001b[39;00m\n",
      "\u001b[1;31mValueError\u001b[0m: cannot unstack dimensions that do not have a MultiIndex: ['z']"
     ]
    }
   ],
   "source": [
    "pdb.set_trace()\n",
    "l2 = wind_current_retrieval(level1, noise, gmf_doppler, gmf_nrcs, ambiguity)"
   ]
  },
  {
   "cell_type": "code",
   "execution_count": 110,
   "id": "2dacec36",
   "metadata": {
    "scrolled": false
   },
   "outputs": [
    {
     "name": "stdout",
     "output_type": "stream",
     "text": [
      "> \u001b[1;32mc:\\users\\davidmccann\\anaconda3\\lib\\site-packages\\xarray\\core\\dataset.py\u001b[0m(4173)\u001b[0;36munstack\u001b[1;34m()\u001b[0m\n",
      "\u001b[1;32m   4171 \u001b[1;33m            ]\n",
      "\u001b[0m\u001b[1;32m   4172 \u001b[1;33m            \u001b[1;32mif\u001b[0m \u001b[0mnon_multi_dims\u001b[0m\u001b[1;33m:\u001b[0m\u001b[1;33m\u001b[0m\u001b[1;33m\u001b[0m\u001b[0m\n",
      "\u001b[0m\u001b[1;32m-> 4173 \u001b[1;33m                raise ValueError(\n",
      "\u001b[0m\u001b[1;32m   4174 \u001b[1;33m                    \u001b[1;34m\"cannot unstack dimensions that do not \"\u001b[0m\u001b[1;33m\u001b[0m\u001b[1;33m\u001b[0m\u001b[0m\n",
      "\u001b[0m\u001b[1;32m   4175 \u001b[1;33m                    \u001b[1;34mf\"have a MultiIndex: {non_multi_dims}\"\u001b[0m\u001b[1;33m\u001b[0m\u001b[1;33m\u001b[0m\u001b[0m\n",
      "\u001b[0m\n",
      "ipdb> u\n",
      "> \u001b[1;32mc:\\users\\davidmccann\\appdata\\local\\temp\\ipykernel_21832\\221513557.py\u001b[0m(43)\u001b[0;36mrun_find_minima\u001b[1;34m()\u001b[0m\n",
      "\n",
      "ipdb> l\n",
      "\u001b[0;32m     38 \u001b[0m        \u001b[0mlmmap\u001b[0m \u001b[1;33m=\u001b[0m \u001b[0mxr\u001b[0m\u001b[1;33m.\u001b[0m\u001b[0mconcat\u001b[0m\u001b[1;33m(\u001b[0m\u001b[0mlmoutmap\u001b[0m\u001b[1;33m,\u001b[0m \u001b[0mdim\u001b[0m\u001b[1;33m=\u001b[0m\u001b[1;34m'z'\u001b[0m\u001b[1;33m)\u001b[0m\u001b[1;33m\u001b[0m\u001b[1;33m\u001b[0m\u001b[0m\n",
      "\u001b[0;32m     39 \u001b[0m        \u001b[0mcoords_dict\u001b[0m \u001b[1;33m=\u001b[0m \u001b[1;33m{\u001b[0m\u001b[0mi\u001b[0m\u001b[1;33m:\u001b[0m \u001b[0mlevel1\u001b[0m\u001b[1;33m.\u001b[0m\u001b[0mSigma0\u001b[0m\u001b[1;33m[\u001b[0m\u001b[0mi\u001b[0m\u001b[1;33m]\u001b[0m \u001b[1;32mfor\u001b[0m \u001b[0mi\u001b[0m \u001b[1;32min\u001b[0m \u001b[0mlist_L1s0\u001b[0m\u001b[1;33m}\u001b[0m\u001b[1;33m\u001b[0m\u001b[1;33m\u001b[0m\u001b[0m\n",
      "\u001b[0;32m     40 \u001b[0m        \u001b[0mlmmap\u001b[0m \u001b[1;33m=\u001b[0m \u001b[0mlmmap\u001b[0m\u001b[1;33m.\u001b[0m\u001b[0massign_coords\u001b[0m\u001b[1;33m(\u001b[0m\u001b[0mcoords_dict\u001b[0m\u001b[1;33m)\u001b[0m\u001b[1;33m\u001b[0m\u001b[1;33m\u001b[0m\u001b[0m\n",
      "\u001b[0;32m     41 \u001b[0m        \u001b[0mlmmap\u001b[0m\u001b[1;33m.\u001b[0m\u001b[0mset_index\u001b[0m\u001b[1;33m(\u001b[0m\u001b[1;33m{\u001b[0m\u001b[0mdim\u001b[0m\u001b[1;33m:\u001b[0m\u001b[0mdim\u001b[0m \u001b[1;32mfor\u001b[0m \u001b[0mdim\u001b[0m \u001b[1;32min\u001b[0m \u001b[0mlist_L1s0\u001b[0m\u001b[1;33m}\u001b[0m\u001b[1;33m)\u001b[0m\u001b[1;33m\u001b[0m\u001b[1;33m\u001b[0m\u001b[0m\n",
      "\u001b[0;32m     42 \u001b[0m\u001b[1;31m#         lmmap = lmmap.set_index(z=list_L1s0)\u001b[0m\u001b[1;33m\u001b[0m\u001b[1;33m\u001b[0m\u001b[0m\n",
      "\u001b[1;32m---> 43 \u001b[1;33m        \u001b[0msol\u001b[0m \u001b[1;33m=\u001b[0m \u001b[0mlmmap\u001b[0m\u001b[1;33m.\u001b[0m\u001b[0munstack\u001b[0m\u001b[1;33m(\u001b[0m\u001b[0mdim\u001b[0m\u001b[1;33m=\u001b[0m\u001b[1;34m'z'\u001b[0m\u001b[1;33m)\u001b[0m\u001b[1;33m\u001b[0m\u001b[1;33m\u001b[0m\u001b[0m\n",
      "\u001b[0m\u001b[0;32m     44 \u001b[0m    \u001b[1;32melif\u001b[0m \u001b[0mlen\u001b[0m\u001b[1;33m(\u001b[0m\u001b[0mlist_L1s0\u001b[0m\u001b[1;33m)\u001b[0m \u001b[1;33m==\u001b[0m \u001b[1;36m1\u001b[0m\u001b[1;33m:\u001b[0m  \u001b[1;31m# 1d\u001b[0m\u001b[1;33m\u001b[0m\u001b[1;33m\u001b[0m\u001b[0m\n",
      "\u001b[0;32m     45 \u001b[0m        \u001b[0mlength\u001b[0m \u001b[1;33m=\u001b[0m \u001b[0mlevel1\u001b[0m\u001b[1;33m[\u001b[0m\u001b[0mlist_L1s0\u001b[0m\u001b[1;33m[\u001b[0m\u001b[1;36m0\u001b[0m\u001b[1;33m]\u001b[0m\u001b[1;33m]\u001b[0m\u001b[1;33m.\u001b[0m\u001b[0msize\u001b[0m\u001b[1;33m\u001b[0m\u001b[1;33m\u001b[0m\u001b[0m\n",
      "\u001b[0;32m     46 \u001b[0m        \u001b[0mlmoutmap\u001b[0m \u001b[1;33m=\u001b[0m \u001b[1;33m[\u001b[0m\u001b[1;32mNone\u001b[0m\u001b[1;33m]\u001b[0m \u001b[1;33m*\u001b[0m \u001b[0mlength\u001b[0m\u001b[1;33m\u001b[0m\u001b[1;33m\u001b[0m\u001b[0m\n",
      "\u001b[0;32m     47 \u001b[0m        \u001b[1;32mfor\u001b[0m \u001b[0mii\u001b[0m \u001b[1;32min\u001b[0m \u001b[0mrange\u001b[0m\u001b[1;33m(\u001b[0m\u001b[0mlength\u001b[0m\u001b[1;33m)\u001b[0m\u001b[1;33m:\u001b[0m\u001b[1;33m\u001b[0m\u001b[1;33m\u001b[0m\u001b[0m\n",
      "\u001b[0;32m     48 \u001b[0m            \u001b[0msl1\u001b[0m \u001b[1;33m=\u001b[0m \u001b[0mlevel1\u001b[0m\u001b[1;33m.\u001b[0m\u001b[0misel\u001b[0m\u001b[1;33m(\u001b[0m\u001b[1;33m{\u001b[0m\u001b[0mlist_L1s0\u001b[0m\u001b[1;33m[\u001b[0m\u001b[1;36m0\u001b[0m\u001b[1;33m]\u001b[0m\u001b[1;33m:\u001b[0m \u001b[0mii\u001b[0m\u001b[1;33m}\u001b[0m\u001b[1;33m)\u001b[0m\u001b[1;33m\u001b[0m\u001b[1;33m\u001b[0m\u001b[0m\n",
      "\n",
      "ipdb> lmmap\n",
      "<xarray.Dataset>\n",
      "Dimensions:              (x_variables: 4, Observables: 2, Antenna: 4, z: 30, Ambiguities: 4, fun_variables: 8, extrema: 2, across: 5, along: 6)\n",
      "Coordinates:\n",
      "  * x_variables          (x_variables) <U3 'u' 'v' 'c_u' 'c_v'\n",
      "  * Observables          (Observables) <U6 'sigma0' 'RSV'\n",
      "  * Antenna              (Antenna) <U4 'Fore' 'MidV' 'MidH' 'Aft'\n",
      "    fun_variables        (Observables, Antenna) int32 0 1 2 3 4 5 6 7\n",
      "    CentralFreq          float64 1.35e+10\n",
      "  * z                    (z) object (0, 0) (0, 1) (0, 2) ... (4, 4) (4, 5)\n",
      "    CentralWavenumber    int32 270\n",
      "    AntennaAzimuthImage  (Antenna) int32 45 90 90 135\n",
      "    Polarization         (Antenna) <U2 'VV' 'VV' 'HH' 'VV'\n",
      "    IncidenceAngleImage  (Antenna) int32 30 30 30 30\n",
      "  * across               (across) int32 0 1 2 3 4\n",
      "  * along                (along) int32 0 1 2 3 4 5\n",
      "Dimensions without coordinates: Ambiguities, extrema\n",
      "Data variables: (12/17)\n",
      "    x                    (z, Ambiguities, x_variables) float64 7.021 ... 1.322\n",
      "    active_mask          (z, Ambiguities, x_variables) int32 0 0 0 0 ... 0 0 0 0\n",
      "    grad                 (z, Ambiguities, x_variables) float64 -0.03226 ... 1...\n",
      "    fun                  (z, Ambiguities, Observables, Antenna) float64 -0.38...\n",
      "    jac                  (z, Ambiguities, fun_variables, x_variables) float64 ...\n",
      "    x0                   (z, Ambiguities, x_variables) float64 4.719 ... -1.34\n",
      "    ...                   ...\n",
      "    message              (z, Ambiguities) <U42 '`xtol` termination condition ...\n",
      "    success              (z, Ambiguities) bool True True True ... True True True\n",
      "    method               (z) <U3 'trf' 'trf' 'trf' 'trf' ... 'trf' 'trf' 'trf'\n",
      "    xtol                 (z) float64 0.001 0.001 0.001 ... 0.001 0.001 0.001\n",
      "    x_scale              (z, x_variables) float64 7.0 7.0 0.5 ... 7.0 0.5 0.5\n",
      "    bounds               (z, extrema, x_variables) int32 -30 -30 -5 ... 30 5 5\n",
      "ipdb> exit\n"
     ]
    }
   ],
   "source": [
    "pdb.pm()"
   ]
  },
  {
   "cell_type": "code",
   "execution_count": 104,
   "id": "4c72f4f5",
   "metadata": {},
   "outputs": [
    {
     "data": {
      "text/html": [
       "<div><svg style=\"position: absolute; width: 0; height: 0; overflow: hidden\">\n",
       "<defs>\n",
       "<symbol id=\"icon-database\" viewBox=\"0 0 32 32\">\n",
       "<path d=\"M16 0c-8.837 0-16 2.239-16 5v4c0 2.761 7.163 5 16 5s16-2.239 16-5v-4c0-2.761-7.163-5-16-5z\"></path>\n",
       "<path d=\"M16 17c-8.837 0-16-2.239-16-5v6c0 2.761 7.163 5 16 5s16-2.239 16-5v-6c0 2.761-7.163 5-16 5z\"></path>\n",
       "<path d=\"M16 26c-8.837 0-16-2.239-16-5v6c0 2.761 7.163 5 16 5s16-2.239 16-5v-6c0 2.761-7.163 5-16 5z\"></path>\n",
       "</symbol>\n",
       "<symbol id=\"icon-file-text2\" viewBox=\"0 0 32 32\">\n",
       "<path d=\"M28.681 7.159c-0.694-0.947-1.662-2.053-2.724-3.116s-2.169-2.030-3.116-2.724c-1.612-1.182-2.393-1.319-2.841-1.319h-15.5c-1.378 0-2.5 1.121-2.5 2.5v27c0 1.378 1.122 2.5 2.5 2.5h23c1.378 0 2.5-1.122 2.5-2.5v-19.5c0-0.448-0.137-1.23-1.319-2.841zM24.543 5.457c0.959 0.959 1.712 1.825 2.268 2.543h-4.811v-4.811c0.718 0.556 1.584 1.309 2.543 2.268zM28 29.5c0 0.271-0.229 0.5-0.5 0.5h-23c-0.271 0-0.5-0.229-0.5-0.5v-27c0-0.271 0.229-0.5 0.5-0.5 0 0 15.499-0 15.5 0v7c0 0.552 0.448 1 1 1h7v19.5z\"></path>\n",
       "<path d=\"M23 26h-14c-0.552 0-1-0.448-1-1s0.448-1 1-1h14c0.552 0 1 0.448 1 1s-0.448 1-1 1z\"></path>\n",
       "<path d=\"M23 22h-14c-0.552 0-1-0.448-1-1s0.448-1 1-1h14c0.552 0 1 0.448 1 1s-0.448 1-1 1z\"></path>\n",
       "<path d=\"M23 18h-14c-0.552 0-1-0.448-1-1s0.448-1 1-1h14c0.552 0 1 0.448 1 1s-0.448 1-1 1z\"></path>\n",
       "</symbol>\n",
       "</defs>\n",
       "</svg>\n",
       "<style>/* CSS stylesheet for displaying xarray objects in jupyterlab.\n",
       " *\n",
       " */\n",
       "\n",
       ":root {\n",
       "  --xr-font-color0: var(--jp-content-font-color0, rgba(0, 0, 0, 1));\n",
       "  --xr-font-color2: var(--jp-content-font-color2, rgba(0, 0, 0, 0.54));\n",
       "  --xr-font-color3: var(--jp-content-font-color3, rgba(0, 0, 0, 0.38));\n",
       "  --xr-border-color: var(--jp-border-color2, #e0e0e0);\n",
       "  --xr-disabled-color: var(--jp-layout-color3, #bdbdbd);\n",
       "  --xr-background-color: var(--jp-layout-color0, white);\n",
       "  --xr-background-color-row-even: var(--jp-layout-color1, white);\n",
       "  --xr-background-color-row-odd: var(--jp-layout-color2, #eeeeee);\n",
       "}\n",
       "\n",
       "html[theme=dark],\n",
       "body.vscode-dark {\n",
       "  --xr-font-color0: rgba(255, 255, 255, 1);\n",
       "  --xr-font-color2: rgba(255, 255, 255, 0.54);\n",
       "  --xr-font-color3: rgba(255, 255, 255, 0.38);\n",
       "  --xr-border-color: #1F1F1F;\n",
       "  --xr-disabled-color: #515151;\n",
       "  --xr-background-color: #111111;\n",
       "  --xr-background-color-row-even: #111111;\n",
       "  --xr-background-color-row-odd: #313131;\n",
       "}\n",
       "\n",
       ".xr-wrap {\n",
       "  display: block;\n",
       "  min-width: 300px;\n",
       "  max-width: 700px;\n",
       "}\n",
       "\n",
       ".xr-text-repr-fallback {\n",
       "  /* fallback to plain text repr when CSS is not injected (untrusted notebook) */\n",
       "  display: none;\n",
       "}\n",
       "\n",
       ".xr-header {\n",
       "  padding-top: 6px;\n",
       "  padding-bottom: 6px;\n",
       "  margin-bottom: 4px;\n",
       "  border-bottom: solid 1px var(--xr-border-color);\n",
       "}\n",
       "\n",
       ".xr-header > div,\n",
       ".xr-header > ul {\n",
       "  display: inline;\n",
       "  margin-top: 0;\n",
       "  margin-bottom: 0;\n",
       "}\n",
       "\n",
       ".xr-obj-type,\n",
       ".xr-array-name {\n",
       "  margin-left: 2px;\n",
       "  margin-right: 10px;\n",
       "}\n",
       "\n",
       ".xr-obj-type {\n",
       "  color: var(--xr-font-color2);\n",
       "}\n",
       "\n",
       ".xr-sections {\n",
       "  padding-left: 0 !important;\n",
       "  display: grid;\n",
       "  grid-template-columns: 150px auto auto 1fr 20px 20px;\n",
       "}\n",
       "\n",
       ".xr-section-item {\n",
       "  display: contents;\n",
       "}\n",
       "\n",
       ".xr-section-item input {\n",
       "  display: none;\n",
       "}\n",
       "\n",
       ".xr-section-item input + label {\n",
       "  color: var(--xr-disabled-color);\n",
       "}\n",
       "\n",
       ".xr-section-item input:enabled + label {\n",
       "  cursor: pointer;\n",
       "  color: var(--xr-font-color2);\n",
       "}\n",
       "\n",
       ".xr-section-item input:enabled + label:hover {\n",
       "  color: var(--xr-font-color0);\n",
       "}\n",
       "\n",
       ".xr-section-summary {\n",
       "  grid-column: 1;\n",
       "  color: var(--xr-font-color2);\n",
       "  font-weight: 500;\n",
       "}\n",
       "\n",
       ".xr-section-summary > span {\n",
       "  display: inline-block;\n",
       "  padding-left: 0.5em;\n",
       "}\n",
       "\n",
       ".xr-section-summary-in:disabled + label {\n",
       "  color: var(--xr-font-color2);\n",
       "}\n",
       "\n",
       ".xr-section-summary-in + label:before {\n",
       "  display: inline-block;\n",
       "  content: '►';\n",
       "  font-size: 11px;\n",
       "  width: 15px;\n",
       "  text-align: center;\n",
       "}\n",
       "\n",
       ".xr-section-summary-in:disabled + label:before {\n",
       "  color: var(--xr-disabled-color);\n",
       "}\n",
       "\n",
       ".xr-section-summary-in:checked + label:before {\n",
       "  content: '▼';\n",
       "}\n",
       "\n",
       ".xr-section-summary-in:checked + label > span {\n",
       "  display: none;\n",
       "}\n",
       "\n",
       ".xr-section-summary,\n",
       ".xr-section-inline-details {\n",
       "  padding-top: 4px;\n",
       "  padding-bottom: 4px;\n",
       "}\n",
       "\n",
       ".xr-section-inline-details {\n",
       "  grid-column: 2 / -1;\n",
       "}\n",
       "\n",
       ".xr-section-details {\n",
       "  display: none;\n",
       "  grid-column: 1 / -1;\n",
       "  margin-bottom: 5px;\n",
       "}\n",
       "\n",
       ".xr-section-summary-in:checked ~ .xr-section-details {\n",
       "  display: contents;\n",
       "}\n",
       "\n",
       ".xr-array-wrap {\n",
       "  grid-column: 1 / -1;\n",
       "  display: grid;\n",
       "  grid-template-columns: 20px auto;\n",
       "}\n",
       "\n",
       ".xr-array-wrap > label {\n",
       "  grid-column: 1;\n",
       "  vertical-align: top;\n",
       "}\n",
       "\n",
       ".xr-preview {\n",
       "  color: var(--xr-font-color3);\n",
       "}\n",
       "\n",
       ".xr-array-preview,\n",
       ".xr-array-data {\n",
       "  padding: 0 5px !important;\n",
       "  grid-column: 2;\n",
       "}\n",
       "\n",
       ".xr-array-data,\n",
       ".xr-array-in:checked ~ .xr-array-preview {\n",
       "  display: none;\n",
       "}\n",
       "\n",
       ".xr-array-in:checked ~ .xr-array-data,\n",
       ".xr-array-preview {\n",
       "  display: inline-block;\n",
       "}\n",
       "\n",
       ".xr-dim-list {\n",
       "  display: inline-block !important;\n",
       "  list-style: none;\n",
       "  padding: 0 !important;\n",
       "  margin: 0;\n",
       "}\n",
       "\n",
       ".xr-dim-list li {\n",
       "  display: inline-block;\n",
       "  padding: 0;\n",
       "  margin: 0;\n",
       "}\n",
       "\n",
       ".xr-dim-list:before {\n",
       "  content: '(';\n",
       "}\n",
       "\n",
       ".xr-dim-list:after {\n",
       "  content: ')';\n",
       "}\n",
       "\n",
       ".xr-dim-list li:not(:last-child):after {\n",
       "  content: ',';\n",
       "  padding-right: 5px;\n",
       "}\n",
       "\n",
       ".xr-has-index {\n",
       "  font-weight: bold;\n",
       "}\n",
       "\n",
       ".xr-var-list,\n",
       ".xr-var-item {\n",
       "  display: contents;\n",
       "}\n",
       "\n",
       ".xr-var-item > div,\n",
       ".xr-var-item label,\n",
       ".xr-var-item > .xr-var-name span {\n",
       "  background-color: var(--xr-background-color-row-even);\n",
       "  margin-bottom: 0;\n",
       "}\n",
       "\n",
       ".xr-var-item > .xr-var-name:hover span {\n",
       "  padding-right: 5px;\n",
       "}\n",
       "\n",
       ".xr-var-list > li:nth-child(odd) > div,\n",
       ".xr-var-list > li:nth-child(odd) > label,\n",
       ".xr-var-list > li:nth-child(odd) > .xr-var-name span {\n",
       "  background-color: var(--xr-background-color-row-odd);\n",
       "}\n",
       "\n",
       ".xr-var-name {\n",
       "  grid-column: 1;\n",
       "}\n",
       "\n",
       ".xr-var-dims {\n",
       "  grid-column: 2;\n",
       "}\n",
       "\n",
       ".xr-var-dtype {\n",
       "  grid-column: 3;\n",
       "  text-align: right;\n",
       "  color: var(--xr-font-color2);\n",
       "}\n",
       "\n",
       ".xr-var-preview {\n",
       "  grid-column: 4;\n",
       "}\n",
       "\n",
       ".xr-var-name,\n",
       ".xr-var-dims,\n",
       ".xr-var-dtype,\n",
       ".xr-preview,\n",
       ".xr-attrs dt {\n",
       "  white-space: nowrap;\n",
       "  overflow: hidden;\n",
       "  text-overflow: ellipsis;\n",
       "  padding-right: 10px;\n",
       "}\n",
       "\n",
       ".xr-var-name:hover,\n",
       ".xr-var-dims:hover,\n",
       ".xr-var-dtype:hover,\n",
       ".xr-attrs dt:hover {\n",
       "  overflow: visible;\n",
       "  width: auto;\n",
       "  z-index: 1;\n",
       "}\n",
       "\n",
       ".xr-var-attrs,\n",
       ".xr-var-data {\n",
       "  display: none;\n",
       "  background-color: var(--xr-background-color) !important;\n",
       "  padding-bottom: 5px !important;\n",
       "}\n",
       "\n",
       ".xr-var-attrs-in:checked ~ .xr-var-attrs,\n",
       ".xr-var-data-in:checked ~ .xr-var-data {\n",
       "  display: block;\n",
       "}\n",
       "\n",
       ".xr-var-data > table {\n",
       "  float: right;\n",
       "}\n",
       "\n",
       ".xr-var-name span,\n",
       ".xr-var-data,\n",
       ".xr-attrs {\n",
       "  padding-left: 25px !important;\n",
       "}\n",
       "\n",
       ".xr-attrs,\n",
       ".xr-var-attrs,\n",
       ".xr-var-data {\n",
       "  grid-column: 1 / -1;\n",
       "}\n",
       "\n",
       "dl.xr-attrs {\n",
       "  padding: 0;\n",
       "  margin: 0;\n",
       "  display: grid;\n",
       "  grid-template-columns: 125px auto;\n",
       "}\n",
       "\n",
       ".xr-attrs dt,\n",
       ".xr-attrs dd {\n",
       "  padding: 0;\n",
       "  margin: 0;\n",
       "  float: left;\n",
       "  padding-right: 10px;\n",
       "  width: auto;\n",
       "}\n",
       "\n",
       ".xr-attrs dt {\n",
       "  font-weight: normal;\n",
       "  grid-column: 1;\n",
       "}\n",
       "\n",
       ".xr-attrs dt:hover span {\n",
       "  display: inline-block;\n",
       "  background: var(--xr-background-color);\n",
       "  padding-right: 10px;\n",
       "}\n",
       "\n",
       ".xr-attrs dd {\n",
       "  grid-column: 2;\n",
       "  white-space: pre-wrap;\n",
       "  word-break: break-all;\n",
       "}\n",
       "\n",
       ".xr-icon-database,\n",
       ".xr-icon-file-text2 {\n",
       "  display: inline-block;\n",
       "  vertical-align: middle;\n",
       "  width: 1em;\n",
       "  height: 1.5em !important;\n",
       "  stroke-width: 0;\n",
       "  stroke: currentColor;\n",
       "  fill: currentColor;\n",
       "}\n",
       "</style><pre class='xr-text-repr-fallback'>&lt;xarray.Dataset&gt;\n",
       "Dimensions:            (across: 5, along: 6)\n",
       "Coordinates:\n",
       "    CentralWavenumber  int32 270\n",
       "    CentralFreq        float64 1.35e+10\n",
       "  * across             (across) int32 0 1 2 3 4\n",
       "  * along              (along) int32 0 1 2 3 4 5\n",
       "Data variables:\n",
       "    *empty*</pre><div class='xr-wrap' hidden><div class='xr-header'><div class='xr-obj-type'>xarray.Dataset</div></div><ul class='xr-sections'><li class='xr-section-item'><input id='section-7e681104-4e09-4fdd-8683-5d7cba0992ac' class='xr-section-summary-in' type='checkbox' disabled ><label for='section-7e681104-4e09-4fdd-8683-5d7cba0992ac' class='xr-section-summary'  title='Expand/collapse section'>Dimensions:</label><div class='xr-section-inline-details'><ul class='xr-dim-list'><li><span class='xr-has-index'>across</span>: 5</li><li><span class='xr-has-index'>along</span>: 6</li></ul></div><div class='xr-section-details'></div></li><li class='xr-section-item'><input id='section-425b9c1e-6e12-4d5e-a895-37f132ecf444' class='xr-section-summary-in' type='checkbox'  checked><label for='section-425b9c1e-6e12-4d5e-a895-37f132ecf444' class='xr-section-summary' >Coordinates: <span>(4)</span></label><div class='xr-section-inline-details'></div><div class='xr-section-details'><ul class='xr-var-list'><li class='xr-var-item'><div class='xr-var-name'><span>CentralWavenumber</span></div><div class='xr-var-dims'>()</div><div class='xr-var-dtype'>int32</div><div class='xr-var-preview xr-preview'>270</div><input id='attrs-682ff0fd-40d4-4a91-900e-4a45e31722d4' class='xr-var-attrs-in' type='checkbox' disabled><label for='attrs-682ff0fd-40d4-4a91-900e-4a45e31722d4' title='Show/Hide attributes'><svg class='icon xr-icon-file-text2'><use xlink:href='#icon-file-text2'></use></svg></label><input id='data-4d34b031-ddbc-4302-9525-702f51e14c2c' class='xr-var-data-in' type='checkbox'><label for='data-4d34b031-ddbc-4302-9525-702f51e14c2c' title='Show/Hide data repr'><svg class='icon xr-icon-database'><use xlink:href='#icon-database'></use></svg></label><div class='xr-var-attrs'><dl class='xr-attrs'></dl></div><div class='xr-var-data'><pre>array(270)</pre></div></li><li class='xr-var-item'><div class='xr-var-name'><span>CentralFreq</span></div><div class='xr-var-dims'>()</div><div class='xr-var-dtype'>float64</div><div class='xr-var-preview xr-preview'>1.35e+10</div><input id='attrs-d3cd5d0d-cb9f-47e9-ae3b-64e4afb7ec98' class='xr-var-attrs-in' type='checkbox' disabled><label for='attrs-d3cd5d0d-cb9f-47e9-ae3b-64e4afb7ec98' title='Show/Hide attributes'><svg class='icon xr-icon-file-text2'><use xlink:href='#icon-file-text2'></use></svg></label><input id='data-fe2e95e2-2d98-4b5c-a028-200f75b42212' class='xr-var-data-in' type='checkbox'><label for='data-fe2e95e2-2d98-4b5c-a028-200f75b42212' title='Show/Hide data repr'><svg class='icon xr-icon-database'><use xlink:href='#icon-database'></use></svg></label><div class='xr-var-attrs'><dl class='xr-attrs'></dl></div><div class='xr-var-data'><pre>array(1.35e+10)</pre></div></li><li class='xr-var-item'><div class='xr-var-name'><span class='xr-has-index'>across</span></div><div class='xr-var-dims'>(across)</div><div class='xr-var-dtype'>int32</div><div class='xr-var-preview xr-preview'>0 1 2 3 4</div><input id='attrs-ccbf5805-e450-4763-849a-e09a403bf1ad' class='xr-var-attrs-in' type='checkbox' disabled><label for='attrs-ccbf5805-e450-4763-849a-e09a403bf1ad' title='Show/Hide attributes'><svg class='icon xr-icon-file-text2'><use xlink:href='#icon-file-text2'></use></svg></label><input id='data-dbf62ab8-da51-472f-8a53-a3587cee97bf' class='xr-var-data-in' type='checkbox'><label for='data-dbf62ab8-da51-472f-8a53-a3587cee97bf' title='Show/Hide data repr'><svg class='icon xr-icon-database'><use xlink:href='#icon-database'></use></svg></label><div class='xr-var-attrs'><dl class='xr-attrs'></dl></div><div class='xr-var-data'><pre>array([0, 1, 2, 3, 4])</pre></div></li><li class='xr-var-item'><div class='xr-var-name'><span class='xr-has-index'>along</span></div><div class='xr-var-dims'>(along)</div><div class='xr-var-dtype'>int32</div><div class='xr-var-preview xr-preview'>0 1 2 3 4 5</div><input id='attrs-96b9e4cd-2d86-4b05-9fa3-3b194a62446b' class='xr-var-attrs-in' type='checkbox' disabled><label for='attrs-96b9e4cd-2d86-4b05-9fa3-3b194a62446b' title='Show/Hide attributes'><svg class='icon xr-icon-file-text2'><use xlink:href='#icon-file-text2'></use></svg></label><input id='data-3ae985c8-9529-4ee9-b2c5-035d64d25679' class='xr-var-data-in' type='checkbox'><label for='data-3ae985c8-9529-4ee9-b2c5-035d64d25679' title='Show/Hide data repr'><svg class='icon xr-icon-database'><use xlink:href='#icon-database'></use></svg></label><div class='xr-var-attrs'><dl class='xr-attrs'></dl></div><div class='xr-var-data'><pre>array([0, 1, 2, 3, 4, 5])</pre></div></li></ul></div></li><li class='xr-section-item'><input id='section-9023fb37-3ae5-4656-859d-c1244a2d0f5c' class='xr-section-summary-in' type='checkbox' disabled ><label for='section-9023fb37-3ae5-4656-859d-c1244a2d0f5c' class='xr-section-summary'  title='Expand/collapse section'>Data variables: <span>(0)</span></label><div class='xr-section-inline-details'></div><div class='xr-section-details'><ul class='xr-var-list'></ul></div></li><li class='xr-section-item'><input id='section-f5c0c73e-192d-443f-b7a1-bb55f142f73c' class='xr-section-summary-in' type='checkbox' disabled ><label for='section-f5c0c73e-192d-443f-b7a1-bb55f142f73c' class='xr-section-summary'  title='Expand/collapse section'>Attributes: <span>(0)</span></label><div class='xr-section-inline-details'></div><div class='xr-section-details'><dl class='xr-attrs'></dl></div></li></ul></div></div>"
      ],
      "text/plain": [
       "<xarray.Dataset>\n",
       "Dimensions:            (across: 5, along: 6)\n",
       "Coordinates:\n",
       "    CentralWavenumber  int32 270\n",
       "    CentralFreq        float64 1.35e+10\n",
       "  * across             (across) int32 0 1 2 3 4\n",
       "  * along              (along) int32 0 1 2 3 4 5\n",
       "Data variables:\n",
       "    *empty*"
      ]
     },
     "execution_count": 104,
     "metadata": {},
     "output_type": "execute_result"
    }
   ],
   "source": [
    "a = xr.Dataset()\n",
    "\n",
    "list_L1s0 = list(level1.Sigma0.dims)\n",
    "list_L1s0.remove('Antenna')\n",
    "coords_dict = {i: level1.Sigma0[i] for i in list_L1s0}\n",
    "a = a.assign_coords(coords_dict)\n",
    "#for i, dim in enumerate(list_L1s0):\n",
    "a.set_index({dim:dim for dim in list_L1s0}) \n",
    "a"
   ]
  },
  {
   "cell_type": "markdown",
   "id": "d607d111",
   "metadata": {},
   "source": [
    "# Scirec functions"
   ]
  },
  {
   "cell_type": "code",
   "execution_count": 105,
   "id": "eb57839f",
   "metadata": {},
   "outputs": [],
   "source": [
    "import numpy as np\n",
    "import xarray as xr\n",
    "from scipy.optimize import least_squares\n",
    "import seastar\n",
    "from seastar.utils.tools import dotdict, da2py\n",
    "\n",
    "\n",
    "def wind_current_retrieval(level1, noise, gmf_doppler, gmf_nrcs, ambiguity):\n",
    "    lmout = run_find_minima(level1, noise, gmf_doppler, gmf_nrcs)\n",
    "    sol = ss.retrieval.ambiguity_removal.solve_ambiguity(lmout, ambiguity)\n",
    "    level2 = sol2level2(sol)\n",
    "    return level2\n",
    "\n",
    "def run_find_minima(level1, noise, gmf_doppler, gmf_nrcs):\n",
    "    list_L1s0 = list(level1.Sigma0.dims)\n",
    "    list_L1s0.remove('Antenna')\n",
    "    if len(list_L1s0) > 1:  # 2d or more\n",
    "        level1_stack = level1.stack(z=tuple(list_L1s0))\n",
    "        noise_stack = noise.stack(z=tuple(list_L1s0))\n",
    "#         lmoutmap = [None] * level1_stack.z.size\n",
    "        input_mp = [None] * level1_stack.z.size\n",
    "        for ii in range(level1_stack.z.size):\n",
    "            input_mp[ii] = dict({\n",
    "                'level1': level1_stack.isel(z=ii),\n",
    "                'noise': noise_stack.isel(z=ii),\n",
    "                'gmf_doppler': gmf_doppler,\n",
    "                'gmf_nrcs': gmf_nrcs,\n",
    "            })\n",
    "        if __name__ == '__main__':\n",
    "            @parfor(input_mp, nP=4)\n",
    "            def lmoutmap(input_mp):\n",
    "                sl1 = input_mp['level1']\n",
    "                sn = input_mp['noise']\n",
    "                gmf_nrcs = input_mp['gmf_nrcs']\n",
    "                gmf_doppler = input_mp['gmf_doppler']\n",
    "                lmout = find_minima(sl1, sn, gmf_doppler, gmf_nrcs)\n",
    "                return lmout\n",
    "        lmmap = xr.concat(lmoutmap, dim='z')\n",
    "        coords_dict = {i: level1.Sigma0[i] for i in list_L1s0}\n",
    "        lmmap = lmmap.assign_coords(coords_dict)\n",
    "        lmmap.set_index({dim:dim for dim in list_L1s0}) \n",
    "#         lmmap = lmmap.set_index(z=list_L1s0)\n",
    "        sol = lmmap.unstack(dim='z')\n",
    "    elif len(list_L1s0) == 1:  # 1d\n",
    "        length = level1[list_L1s0[0]].size\n",
    "        lmoutmap = [None] * length\n",
    "        for ii in range(length):\n",
    "            sl1 = level1.isel({list_L1s0[0]: ii})\n",
    "            sn = noise.isel({list_L1s0[0]: ii})\n",
    "            lmout = find_minima(sl1, sn, gmf_doppler, gmf_nrcs)\n",
    "            lmout = lmout.sortby('cost')\n",
    "            # lmout = ambiguity_removal.solve_ambiguity(lmout, ambiguity)\n",
    "            lmoutmap[ii] = lmout\n",
    "        sol = xr.concat(lmoutmap, dim=list_L1s0[0])\n",
    "    else:  # single pixel\n",
    "        sol = find_minima(level1, noise, gmf_doppler, gmf_nrcs)\n",
    "        sol = sol.sortby('cost')\n",
    "        # sol = ambiguity_removal.solve_ambiguity(lmout, ambiguity)\n",
    "    return sol\n",
    "\n",
    "def sol2level2(sol):\n",
    "    level2 = sol.drop_vars(sol.data_vars)\n",
    "    level2['x'] = sol.x  # .isel(Ambiguities=0)\n",
    "    level2['cost'] = sol.cost\n",
    "    level2['CurrentU'] = level2.x.sel(x_variables='c_u')\n",
    "    level2['CurrentV'] = level2.x.sel(x_variables='c_v')\n",
    "    level2['WindU'] = level2.x.sel(x_variables='u')\n",
    "    level2['WindV'] = level2.x.sel(x_variables='v')\n",
    "\n",
    "    [level2['CurrentVelocity'], cdir] = \\\n",
    "        ss.utils.tools.currentUV2VelDir(\n",
    "            level2['CurrentU'],\n",
    "            level2['CurrentV']\n",
    "        )\n",
    "    level2['CurrentDirection'] = (level2.CurrentVelocity.dims, cdir)\n",
    "\n",
    "    [level2['WindSpeed'], wdir] = \\\n",
    "        ss.utils.tools.windUV2SpeedDir(\n",
    "            level2['WindU'],\n",
    "            level2['WindV']\n",
    "        )\n",
    "    level2['WindDirection'] = (level2.WindSpeed.dims, wdir)\n",
    "    return level2\n",
    "\n",
    "\n",
    "def fun_residual(variables, level1, noise, gmf_doppler, gmf_nrcs):\n",
    "    # Initialisation\n",
    "    u = da2py(variables[0])\n",
    "    v = da2py(variables[1])\n",
    "    c_u = da2py(variables[2])\n",
    "    c_v = da2py(variables[3])\n",
    "\n",
    "    #TODO if len(variables)==2; inversion of wind only and c_u=0 cf Matalb and find_simple_minimum\n",
    "    vis_u = u - c_u\n",
    "    vis_v = v - c_v\n",
    "\n",
    "    [vis_wspd, vis_wdir] = seastar.utils.tools.windUV2SpeedDir(vis_u, vis_v)\n",
    "    [c_vel, c_dir] = seastar.utils.tools.currentUV2VelDir(c_u, c_v)\n",
    "\n",
    "    model = level1.drop_vars([var for var in level1.data_vars]) # to keep only the coordinates\n",
    "\n",
    "    geo = xr.Dataset(\n",
    "        data_vars=dict(\n",
    "            WindSpeed=(level1.isel(Antenna=0).IncidenceAngleImage.dims, vis_wspd),\n",
    "            WindDirection=(level1.isel(Antenna=0).IncidenceAngleImage.dims, vis_wdir),\n",
    "            CurrentVelocity=(level1.isel(Antenna=0).IncidenceAngleImage.dims, c_vel),\n",
    "            CurrentDirection=(level1.isel(Antenna=0).IncidenceAngleImage.dims, c_dir),\n",
    "        ),\n",
    "    )\n",
    "    # propagate relevant Level1 coords to geo\n",
    "    for dim in level1.isel(Antenna=0).IncidenceAngleImage.dims:\n",
    "        geo.coords[dim] = level1.isel(Antenna=0).coords[dim]\n",
    "    if 'Antenna' in geo.coords:\n",
    "        geo = geo.drop_vars('Antenna')\n",
    "\n",
    "    # paragraph below to be changed in future without the loop for Antenna\n",
    "    model_rsv_list = [None] * level1.Antenna.size\n",
    "    for aa, ant in enumerate(level1.Antenna.data):\n",
    "        #print(aa, ant)\n",
    "        l1 = level1.sel(Antenna=ant)\n",
    "        #gmf_name = gmf['doppler']['name']\n",
    "#         gmf_name='mouche12'\n",
    "#         model_rsv_list[aa] = seastar.gmfs.doppler.compute_total_surface_motion(l1, geo, gmf_name)\n",
    "        model_rsv_list[aa] = seastar.gmfs.doppler.compute_total_surface_motion(level1.sel(Antenna=ant), geo, gmf=gmf_doppler.name)\n",
    "    model['RSV'] = xr.concat(model_rsv_list, dim='Antenna')\n",
    "    # in future it should be: model['RSV'] = seastar.gmfs.doppler.compute_total_surface_motion(level1, geo, gmf=gmf.doppler) without the loop on antennas\n",
    "#     a = xr.Dataset()\n",
    "#     a['name'] = 'nscat4ds'\n",
    "    model['Sigma0'] = seastar.gmfs.nrcs.compute_nrcs(level1, geo, gmf=gmf_nrcs)\n",
    "    \n",
    "    res = ( level1 - model ) / noise # DataSet with RSV and Sigma0 fields\n",
    "\n",
    "    sigma0_axis_num = level1.Sigma0.get_axis_num('Antenna')\n",
    "    rsv_axis_num = level1.RSV.get_axis_num('Antenna')\n",
    "    if sigma0_axis_num == rsv_axis_num:\n",
    "        concat_axis = sigma0_axis_num\n",
    "    else:\n",
    "        raise Exception('Different axis in Antenna for Sigma0 and RSV')\n",
    "\n",
    "    out = np.concatenate(\n",
    "        (res.Sigma0.data, res.RSV.data),\n",
    "        axis=concat_axis,\n",
    "    )\n",
    "\n",
    "    return np.where(np.isfinite(out), out, 0)\n",
    "\n",
    "def find_minima(level1_pixel, noise_pixel, gmf_doppler, gmf_nrcs):\n",
    "\n",
    "    opt = {\n",
    "        'method': 'trf', # Trust Region Reflective algorithm, particularly suitable for large sparse problems with bounds. Generally robust method.\n",
    "        'xtol':  1e-3, # Tolerance for termination by the change of the independent variables\n",
    "        'x_scale': [7,7,.5,.5], # Characteristic scale of each variable.\n",
    "        'bounds': ([-30,-30,-5,-5], [30,30,5,5]),\n",
    "    } # if modified => change optionLeastSquares2dataset() below\n",
    "\n",
    "    init = [None] * 4\n",
    "    init[0] = dotdict({\n",
    "        'x0': [ 7*np.random.normal(), #u\n",
    "                7*np.random.normal(), #v\n",
    "                0, # c_u\n",
    "                0 ]  # c_v\n",
    "    })\n",
    "\n",
    "    lmout = [None] * 4\n",
    "    # find the first minimum with begin current = 0\n",
    "    lmout_dict = least_squares(\n",
    "        fun_residual,\n",
    "        init[0].x0,\n",
    "        args=(level1_pixel, noise_pixel, gmf_doppler, gmf_nrcs),\n",
    "        **opt\n",
    "    )\n",
    "    lmout[0] = optimizeResults2dataset(lmout_dict, init[0].x0, level1_pixel)\n",
    "\n",
    "    # find the 3 ambiguities and run the minimisation to find the 3 minima\n",
    "    init[1:3] = find_initial_values(lmout[0].x, level1_pixel, gmf_doppler, gmf_nrcs)\n",
    "    for ii in [1,2,3]:\n",
    "        lmout_dict = least_squares(\n",
    "            fun_residual,\n",
    "            init[ii].x0,\n",
    "            args=(level1_pixel, noise_pixel, gmf_doppler, gmf_nrcs),\n",
    "            **opt\n",
    "        )\n",
    "        lmout[ii] = optimizeResults2dataset(lmout_dict, init[ii].x0, level1_pixel)\n",
    "\n",
    "    dslmout = xr.concat(lmout, dim='Ambiguities')\n",
    "    dslmout = optionLeastSquares2dataset(opt, dslmout)\n",
    "    dslmout = dslmout.assign_coords(level1_pixel.coords)\n",
    "\n",
    "    return dslmout\n",
    "\n",
    "def x2uvcucv(x):\n",
    "    out = dotdict({\n",
    "        'u': x[0],\n",
    "        'v': x[1],\n",
    "        'c_u': x[2],\n",
    "        'c_v': x[3]\n",
    "    })\n",
    "    return out\n",
    "\n",
    "def uvcucv2x(mydict):\n",
    "    x = np.array([\n",
    "        mydict['u'],\n",
    "        mydict['v'],\n",
    "        mydict['c_u'],\n",
    "        mydict['c_v'],\n",
    "    ])\n",
    "    return x\n",
    "\n",
    "def optionLeastSquares2dataset(opt, dslmout):\n",
    "    dslmout['method'] = opt['method']\n",
    "    dslmout['xtol'] = opt['xtol']\n",
    "    dslmout['x_scale'] = (('x_variables'), opt['x_scale'])\n",
    "    dslmout['bounds'] = (('extrema','x_variables'), np.asarray(opt['bounds']))\n",
    "\n",
    "    # description from\n",
    "    # https://docs.scipy.org/doc/scipy/reference/generated/scipy.optimize.least_squares.html\n",
    "    dslmout.method.attrs['description'] = \\\n",
    "        'Algorithm to perform minimization. ' \\\n",
    "        '‘trf’ : Trust Region Reflective algorithm, particularly suitable for ' \\\n",
    "        'large sparse problems with bounds. Generally robust method.' \\\n",
    "        '‘dogbox’ : dogleg algorithm with rectangular trust regions, typical use ' \\\n",
    "        'case is small problems with bounds. Not recommended for problems with ' \\\n",
    "        'rank-deficient Jacobian.' \\\n",
    "        '‘lm’ : Levenberg-Marquardt algorithm as implemented in MINPACK. ' \\\n",
    "        'Doesn’t handle bounds and sparse Jacobians. Usually the most efficient ' \\\n",
    "        'method for small unconstrained problems'\n",
    "    dslmout.xtol.attrs['description'] = \\\n",
    "        'Tolerance for termination by the change of the independent variables.' \\\n",
    "        ' Default is 1e-8. The exact condition depends on the method used:' \\\n",
    "        'For ‘trf’ and ‘dogbox’ : norm(dx) < xtol * (xtol + norm(x)).' \\\n",
    "        'For ‘lm’ : Delta < xtol * norm(xs), where Delta is a trust-region radius ' \\\n",
    "        'and xs is the value of x scaled according to x_scale parameter (see below).' \\\n",
    "        'If None and ‘method’ is not ‘lm’, the termination by this condition is disabled.' \\\n",
    "        ' If ‘method’ is ‘lm’, this tolerance must be higher than machine epsilon'\n",
    "    dslmout.x_scale.attrs['description'] = \\\n",
    "        'Characteristic scale of each variable. Setting x_scale is equivalent to ' \\\n",
    "        'reformulating the problem in scaled variables xs = x / x_scale. An alternative ' \\\n",
    "        'view is that the size of a trust region along jth dimension is proportional ' \\\n",
    "        'to x_scale[j]. Improved convergence may be achieved by setting x_scale such that' \\\n",
    "        ' a step of a given size along any of the scaled variables has a similar effect on' \\\n",
    "        ' the cost function. If set to ‘jac’, the scale is iteratively updated using the ' \\\n",
    "        'inverse norms of the columns of the Jacobian matrix (as described in [JJMore]).'\n",
    "    dslmout.bounds.attrs['description'] = \\\n",
    "        'Lower and upper bounds on independent variables. Defaults to no bounds. ' \\\n",
    "        'Each array must match the size of x0 or be a scalar, in the latter case a bound ' \\\n",
    "        'will be the same for all variables. ' \\\n",
    "        'Use np.inf with an appropriate sign to disable bounds on all or some variables.'\n",
    "\n",
    "    return dslmout\n",
    "\n",
    "def optimizeResults2dataset(lmout, x0, level1):\n",
    "    d = dict()\n",
    "    d['x_variables'] = {\"dims\": \"x_variables\", \"data\": np.array(['u', 'v', 'c_u', 'c_v'])}\n",
    "    d['Observables'] = {\"dims\": \"Observables\", \"data\": np.array(['sigma0', 'RSV'])}\n",
    "    # d['fun_variables'] = {\"dims\": \"fun_variables\", \"data\": range(8)}\n",
    "    d['Antenna'] = {\"dims\": \"Antenna\", \"data\": level1.Antenna.data}\n",
    "    d['fun_variables'] = {\"dims\": (\"Observables\", \"Antenna\"), \"data\": np.array([range(0,4), range(4,8)])}\n",
    "\n",
    "    # import variables with dimension\n",
    "    dims_variables = {\n",
    "        'x': 'x_variables',\n",
    "        'active_mask': 'x_variables',\n",
    "        'grad': 'x_variables',\n",
    "        'fun': ('Observables', 'Antenna'),\n",
    "        'jac': ('fun_variables', 'x_variables'),\n",
    "    }\n",
    "    for var in dims_variables.keys():\n",
    "        if var in ['fun','jac']:\n",
    "            d[var] = {\n",
    "                \"dims\": dims_variables[var],\n",
    "                \"data\": lmout[var].reshape(\n",
    "                    d[dims_variables[var][0]]['data'].size,\n",
    "                    d[dims_variables[var][1]]['data'].size\n",
    "                )\n",
    "            }\n",
    "        else:\n",
    "            d[var] = {\"dims\": (dims_variables[var]), \"data\": lmout[var]}\n",
    "\n",
    "    ds = xr.Dataset.from_dict(d)\n",
    "\n",
    "    # add x0\n",
    "    ds['x0'] = (('x_variables'), x0)\n",
    "    # import variables without dimension\n",
    "    nodims_variables = ['cost', 'optimality', 'nfev', 'njev', 'status', 'message', 'success']\n",
    "    for var in nodims_variables:\n",
    "        ds[var] = lmout[var]\n",
    "    # description from\n",
    "    # https://docs.scipy.org/doc/scipy/reference/generated/scipy.optimize.least_squares.html\n",
    "    ds.x0.attrs['description'] = \\\n",
    "        'Initial guess on independent variables'\n",
    "    ds.x.attrs['description'] = \\\n",
    "        'Solution found'\n",
    "    ds.cost.attrs['description'] = \\\n",
    "        'Value of the cost function at the solution'\n",
    "    ds.fun.attrs['description'] = \\\n",
    "        'Vector of residuals at the solution'\n",
    "    ds.jac.attrs['description'] = \\\n",
    "        'Modified Jacobian matrix at the solution, in the sense that J^T J is a Gauss-' \\\n",
    "        'Newton approximation of the Hessian of the cost function. The type is the same ' \\\n",
    "        'as the one used by the algorithm'\n",
    "    ds.grad.attrs['description'] = \\\n",
    "        'Gradient of the cost function at the solution'\n",
    "    ds.optimality.attrs['description'] = \\\n",
    "        'First-order optimality measure. In unconstrained problems, it is always the ' \\\n",
    "        'uniform norm of the gradient. In constrained problems, it is the quantity ' \\\n",
    "        'which was compared with gtol during iterations'\n",
    "    ds.active_mask.attrs['description'] = \\\n",
    "        'Each component shows whether a corresponding constraint is active ' \\\n",
    "        '(that is, whether a variable is at the bound):' \\\n",
    "        '0 : a constraint is not active.; -1 : a lower bound is active.; 1 : an upper bound is active.' \\\n",
    "        'Might be somewhat arbitrary for ‘trf’ method as it generates a sequence of ' \\\n",
    "        'strictly feasible iterates and active_mask is determined within a tolerance threshold. '\n",
    "    ds.nfev.attrs['description'] = \\\n",
    "        'Number of function evaluations done. Methods ‘trf’ and ‘dogbox’ do not ' \\\n",
    "        'count function calls for numerical Jacobian approximation, as opposed to ‘lm’ method.'\n",
    "    ds.njev.attrs['description'] = \\\n",
    "        'Number of Jacobian evaluations done. If numerical Jacobian approximation ' \\\n",
    "        'is used in ‘lm’ method, it is set to None'\n",
    "    ds.status.attrs['description'] = \\\n",
    "        'The reason for algorithm termination: ' \\\n",
    "        '-1 : improper input parameters status returned from MINPACK.' \\\n",
    "        '0 : the maximum number of function evaluations is exceeded.' \\\n",
    "        '1 : gtol termination condition is satisfied.' \\\n",
    "        '2 : ftol termination condition is satisfied.' \\\n",
    "        '3 : xtol termination condition is satisfied.' \\\n",
    "        '4 : Both ftol and xtol termination conditions are satisfied.'\n",
    "    ds.message.attrs['description'] = \\\n",
    "        'Verbal description of the termination reason'\n",
    "    ds.success.attrs['description'] = \\\n",
    "        'True if one of the convergence criteria is satisfied (status > 0)'\n",
    "\n",
    "    return ds\n",
    "\n",
    "def find_initial_values(sol1st_x, level1_inst, gmf_doppler, gmf_nrcs):\n",
    "    WS = np.array([5,10])\n",
    "    dte_coef = 0.03 # to update with matlab code below diff(WASV)/diff(WS)\n",
    "    def smooth(x):\n",
    "        if np.abs(x) < 0.5: #3:\n",
    "            return(x/3)\n",
    "        else:\n",
    "            return(x)\n",
    "    # dte = lambda x: smooth(x) * np.sign(x) * dte_coef * (np.abs(x) - WS[0])\n",
    "    dte = lambda x: -np.sign(x) * smooth ( 0.5 + dte_coef * (np.abs(x) - WS[0]) )\n",
    "    sol = x2uvcucv(sol1st_x)\n",
    "    sol = seastar.utils.tools.windCurrentUV2all(sol)\n",
    "    init_list = [None] * 3\n",
    "    meas_cur = dotdict({\n",
    "        'c_u': ( dte(sol['vis_u']) + sol['c_u'] ),\n",
    "        'c_v': ( dte(sol['vis_v']) + sol['c_v'] ),\n",
    "    })\n",
    "    for ii in range(len(init_list)):\n",
    "        init = dotdict({})\n",
    "        init['vis_wspd'] = sol['vis_wspd']\n",
    "        init['vis_wdir'] = np.mod( sol['vis_wdir'] + (ii+1)*90, 360)\n",
    "        init['vis_u'], init['vis_v'] = \\\n",
    "            seastar.utils.tools.windSpeedDir2UV(\n",
    "                init['vis_wspd'], init['vis_wdir']\n",
    "            )\n",
    "        init['c_u'] = meas_cur['c_u'] - dte(init['vis_u'])\n",
    "        init['c_v'] = meas_cur['c_v'] - dte(init['vis_v'])\n",
    "        init['u'] = init['vis_u'] + init['c_u']\n",
    "        init['v'] = init['vis_v'] + init['c_v']\n",
    "        init_list[ii] = \\\n",
    "            dotdict({\n",
    "                'x0': uvcucv2x(init)\n",
    "            })\n",
    "        # test boundary # TODO properly from least_square/opt in future # with raise Exception\n",
    "        # print(init_list[ii])\n",
    "        if ((init_list[ii]['x0'] - np.array([-30,-30,-5,-5])) < 0).any():\n",
    "            print('below boundary')\n",
    "            print(init_list[ii], init)\n",
    "        if ((init_list[ii]['x0'] - np.array([30,30,5,5])) > 0).any():\n",
    "            print('above boundary')\n",
    "            print(init_list[ii], init)\n",
    "\n",
    "    print(\"To Be Done find_initial_value\")\n",
    "\n",
    "    return init_list\n"
   ]
  },
  {
   "cell_type": "code",
   "execution_count": null,
   "id": "1c1c2144",
   "metadata": {},
   "outputs": [],
   "source": []
  }
 ],
 "metadata": {
  "kernelspec": {
   "display_name": "Python 3 (ipykernel)",
   "language": "python",
   "name": "python3"
  },
  "language_info": {
   "codemirror_mode": {
    "name": "ipython",
    "version": 3
   },
   "file_extension": ".py",
   "mimetype": "text/x-python",
   "name": "python",
   "nbconvert_exporter": "python",
   "pygments_lexer": "ipython3",
   "version": "3.9.12"
  }
 },
 "nbformat": 4,
 "nbformat_minor": 5
}
