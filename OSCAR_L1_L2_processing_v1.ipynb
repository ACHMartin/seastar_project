{
 "cells": [
  {
   "cell_type": "code",
   "execution_count": 1,
   "id": "0be3a828",
   "metadata": {},
   "outputs": [],
   "source": [
    "import xarray as xr\n",
    "import numpy as np\n",
    "from scipy.io import loadmat\n",
    "import matplotlib as mpl\n",
    "import matplotlib.pyplot as plt\n",
    "import seastar as ss\n",
    "import seastar.oscar\n",
    "import seastar.retrieval\n",
    "import cartopy.crs as ccrs"
   ]
  },
  {
   "cell_type": "code",
   "execution_count": 2,
   "id": "a81e2341",
   "metadata": {},
   "outputs": [
    {
     "name": "stdout",
     "output_type": "stream",
     "text": [
      "OSCAR L1 processing\n",
      "-------------------\n",
      "File path : D:\\data\\SEASTAR\\SEASTARex\\Data\\Metasensing\\OSCAR\\Brest_Sample_Oct_13_2022_precompute\\\n",
      "-------------------\n",
      "File index : 0 , Aquisition time : 20220517T093239 , File list indices : [0, 1, 2]\n",
      "File index : 1 , Aquisition time : 20220525T080646 , File list indices : [3, 4, 5]\n",
      "File index : 2 , Aquisition time : 20220525T085452 , File list indices : [6, 7, 8]\n"
     ]
    }
   ],
   "source": [
    "# Data load and pre-processing\n",
    "oscar_path = \"D:\\\\data\\\\SEASTAR\\\\SEASTARex\\\\Data\\\\Metasensing\\\\OSCAR\\\\Brest_Sample_Oct_13_2022_precompute\\\\\"\n",
    "file_time_triplets = ss.utils.tools.find_file_triplets(oscar_path)\n",
    "\n",
    "print('OSCAR L1 processing')\n",
    "print('-------------------')\n",
    "print('File path :', oscar_path)\n",
    "print('-------------------')\n",
    "for i in range(len(file_time_triplets)):\n",
    "    print('File index :', i, ',', 'Aquisition time :', file_time_triplets[i][0], ',', 'File list indices :', file_time_triplets[i][1])\n",
    "file_index = 0 #Process single file from list below\n",
    "ds = ss.utils.readers.load_OSCAR_data(oscar_path, file_time_triplets[file_index][1])\n",
    "antenna_ident = ss.utils.tools.antenna_idents(ds)\n",
    "ds = ss.oscar.level1.fill_missing_variables(ds, antenna_ident)"
   ]
  },
  {
   "cell_type": "code",
   "execution_count": 3,
   "id": "771fcc8e",
   "metadata": {},
   "outputs": [],
   "source": [
    "# L1 processing\n",
    "for i in list(ds.keys()):\n",
    "    ds[i] = ss.oscar.level1.check_antenna_polarization(ds[i])\n",
    "    ds[i] = ss.oscar.level1.compute_multilooking_Master_Slave(ds[i], window=7)\n",
    "    ds[i]['Baseline'] = ss.oscar.level1.compute_antenna_baseline(0.2)\n",
    "    ds[i] = ss.oscar.level1.compute_antenna_azimuth_direction(ds[i], antenna=antenna_ident[list(ds.keys()).index(i)])\n",
    "    ds[i] = ss.oscar.level1.compute_time_lag_Master_Slave(ds[i], options='from_SAR_time')\n",
    "    ds[i] = ss.oscar.level1.compute_radial_surface_velocity(ds[i])\n",
    "#Build L1 dataset\n",
    "dsl1 = ss.oscar.level1.merge_beams(ds, antenna_ident)\n",
    "# Generating geophysical data fields for GMF doppler computation\n",
    "u10 = 7 # wind speed\n",
    "wind_direction = 190 # wind direction\n",
    "aux = ss.oscar.level1.init_auxiliary(dsl1,u10,wind_direction)\n",
    "# Compute RSC\n",
    "dsl1 = ss.oscar.level1.compute_radial_surface_current(dsl1.sel(Antenna=['Fore','Aft']), aux, gmf='mouche12')\n",
    "\n",
    "#L2 Processing\n",
    "# Initialise l2 dataset\n",
    "dsl2=ss.oscar.level1.init_level2(dsl1)\n",
    "# Compute current magnitude and direction\n",
    "dsl2=seastar.retrieval.level2.compute_current_magnitude_and_direction(dsl1, dsl2)\n"
   ]
  },
  {
   "cell_type": "code",
   "execution_count": 4,
   "id": "479d83bb",
   "metadata": {},
   "outputs": [],
   "source": [
    "# Load and colocate auxiliary data\n",
    "xband_file=\"D:\\data\\SEASTAR\\SEASTARex\\Data\\Hereon\\Xband_radar_17th_may.mat\"\n",
    "ds_xband = ss.retrieval.auxiliary.colocate_xband_marine_radar_data(xband_file, dsl2)\n",
    "ds_xband['CurrentMagnitude'], ds_xband['CurrentDirection'] =ss.retrieval.auxiliary.\\\n",
    "compute_Xband_current_magnitude_and_direction(ds_xband)"
   ]
  },
  {
   "cell_type": "code",
   "execution_count": null,
   "id": "17411764",
   "metadata": {},
   "outputs": [],
   "source": [
    "# Compute current vectors\n",
    "\n",
    "dsl2['CurrentVectorUComponent'], dsl2['CurrentVectorVComponent'] =\\\n",
    "ss.utils.tools.currentVelDir2UV(dsl2['CurrentMagnitude'], dsl2['CurrentDirection'])\n",
    "\n",
    "ds_xband['CurrentVectorUComponent'], ds_xband['CurrentVectorVComponent'] =\\\n",
    "ss.utils.tools.currentVelDir2UV(ds_xband['CurrentMagnitude'], ds_xband['CurrentDirection'])"
   ]
  },
  {
   "cell_type": "code",
   "execution_count": 1,
   "id": "1c301369",
   "metadata": {},
   "outputs": [
    {
     "ename": "NameError",
     "evalue": "name 'plt' is not defined",
     "output_type": "error",
     "traceback": [
      "\u001b[1;31m---------------------------------------------------------------------------\u001b[0m",
      "\u001b[1;31mNameError\u001b[0m                                 Traceback (most recent call last)",
      "\u001b[1;32m<ipython-input-1-28431ccee99d>\u001b[0m in \u001b[0;36m<module>\u001b[1;34m\u001b[0m\n\u001b[0;32m      5\u001b[0m \u001b[1;33m\u001b[0m\u001b[0m\n\u001b[0;32m      6\u001b[0m \u001b[1;33m\u001b[0m\u001b[0m\n\u001b[1;32m----> 7\u001b[1;33m \u001b[0mfig\u001b[0m \u001b[1;33m=\u001b[0m \u001b[0mplt\u001b[0m\u001b[1;33m.\u001b[0m\u001b[0mfigure\u001b[0m\u001b[1;33m(\u001b[0m\u001b[0mfigsize\u001b[0m\u001b[1;33m=\u001b[0m\u001b[1;33m(\u001b[0m\u001b[1;36m20\u001b[0m\u001b[1;33m,\u001b[0m \u001b[1;36m10\u001b[0m\u001b[1;33m)\u001b[0m\u001b[1;33m)\u001b[0m\u001b[1;33m\u001b[0m\u001b[1;33m\u001b[0m\u001b[0m\n\u001b[0m\u001b[0;32m      8\u001b[0m \u001b[0max\u001b[0m \u001b[1;33m=\u001b[0m \u001b[0mfig\u001b[0m\u001b[1;33m.\u001b[0m\u001b[0madd_subplot\u001b[0m\u001b[1;33m(\u001b[0m\u001b[1;36m1\u001b[0m\u001b[1;33m,\u001b[0m\u001b[1;36m1\u001b[0m\u001b[1;33m,\u001b[0m\u001b[1;36m1\u001b[0m\u001b[1;33m,\u001b[0m \u001b[0mprojection\u001b[0m\u001b[1;33m=\u001b[0m\u001b[0mccrs\u001b[0m\u001b[1;33m.\u001b[0m\u001b[0mMercator\u001b[0m\u001b[1;33m(\u001b[0m\u001b[1;33m)\u001b[0m\u001b[1;33m)\u001b[0m\u001b[1;33m\u001b[0m\u001b[1;33m\u001b[0m\u001b[0m\n\u001b[0;32m      9\u001b[0m \u001b[0mdsl2\u001b[0m\u001b[0;31m\\\u001b[0m\u001b[1;33m\u001b[0m\u001b[1;33m\u001b[0m\u001b[0m\n",
      "\u001b[1;31mNameError\u001b[0m: name 'plt' is not defined"
     ]
    }
   ],
   "source": [
    "# Plot current magnitude with u,v vectors overlain, geographic coordinates\n",
    "\n",
    "c_factor = 20 # Coarsening factor\n",
    "q_factor = 30 # Quiver plot scaling factor\n",
    "\n",
    "\n",
    "fig = plt.figure(figsize=(20, 10))\n",
    "ax = fig.add_subplot(1,1,1, projection=ccrs.Mercator())\n",
    "dsl2\\\n",
    ".coarsen(GroundRange=c_factor,boundary='trim').mean()\\\n",
    ".coarsen(CrossRange=c_factor,boundary='trim').mean()\\\n",
    ".CurrentMagnitude.plot(\n",
    "    y='latitude',\n",
    "    x='longitude',\n",
    "    robust=True, \n",
    "    cmap='coolwarm',\n",
    "    vmin=0, vmax=2.5,\n",
    "    transform=ccrs.PlateCarree()\n",
    ")\n",
    "dsl2\\\n",
    ".coarsen(GroundRange=c_factor,boundary='trim').mean()\\\n",
    ".coarsen(CrossRange=c_factor,boundary='trim').mean()\\\n",
    ".plot.quiver(\n",
    "    x='longitude',\n",
    "    y='latitude',\n",
    "    u='CurrentVectorUComponent',\n",
    "    v='CurrentVectorVComponent',\n",
    "    scale=q_factor,\n",
    "    angles='xy',\n",
    "    robust=True,\n",
    "    transform=ccrs.PlateCarree()\n",
    ")\n",
    "gl=ax.gridlines(draw_labels=True)\n",
    "ax.set_extent([-5.17, -5.1, 48.37, 48.5], crs=ccrs.PlateCarree())\n",
    "\n",
    "\n",
    "fig2 = plt.figure(figsize=(20, 10))\n",
    "ax2 = fig2.add_subplot(1,1,1, projection=ccrs.Mercator())\n",
    "ds_xband\\\n",
    ".coarsen(GroundRange=c_factor,boundary='trim').mean()\\\n",
    ".coarsen(CrossRange=c_factor,boundary='trim').mean()\\\n",
    ".CurrentMagnitude.plot(\n",
    "    y='latitude',\n",
    "    x='longitude',\n",
    "    robust=True, \n",
    "    cmap='coolwarm',\n",
    "    vmin=0, vmax=2.5,\n",
    "    transform=ccrs.PlateCarree()\n",
    ")\n",
    "\n",
    "ds_xband\\\n",
    ".coarsen(GroundRange=20,boundary='trim').mean()\\\n",
    ".coarsen(CrossRange=20,boundary='trim').mean()\\\n",
    ".plot.quiver(\n",
    "    x='longitude',\n",
    "    y='latitude',\n",
    "    u='CurrentVectorUComponent',\n",
    "    v='CurrentVectorVComponent',\n",
    "    scale=q_factor,\n",
    "    angles='xy',\n",
    "    robust=True,\n",
    "    transform=ccrs.PlateCarree()\n",
    ")\n",
    "gl=ax2.gridlines(draw_labels=True)\n",
    "ax2.set_extent([-5.17, -5.1, 48.37, 48.5], crs=ccrs.PlateCarree())"
   ]
  },
  {
   "cell_type": "code",
   "execution_count": null,
   "id": "921d4dd5",
   "metadata": {},
   "outputs": [],
   "source": []
  }
 ],
 "metadata": {
  "kernelspec": {
   "display_name": "Python 3",
   "language": "python",
   "name": "python3"
  },
  "language_info": {
   "codemirror_mode": {
    "name": "ipython",
    "version": 3
   },
   "file_extension": ".py",
   "mimetype": "text/x-python",
   "name": "python",
   "nbconvert_exporter": "python",
   "pygments_lexer": "ipython3",
   "version": "3.8.13"
  }
 },
 "nbformat": 4,
 "nbformat_minor": 5
}
