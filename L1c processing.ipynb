{
 "cells": [
  {
   "cell_type": "code",
   "execution_count": 1,
   "id": "64d6a3f3",
   "metadata": {},
   "outputs": [],
   "source": [
    "import xarray as xr\n",
    "import numpy as np\n",
    "import scipy as sp\n",
    "import seastar as ss\n",
    "import warnings\n",
    "import os\n",
    "from _version import __version__"
   ]
  },
  {
   "cell_type": "code",
   "execution_count": 2,
   "id": "2693b6ba",
   "metadata": {},
   "outputs": [
    {
     "name": "stdout",
     "output_type": "stream",
     "text": [
      "Device name = LIVPCZG-10\n",
      "Setting local paths...\n"
     ]
    }
   ],
   "source": [
    "save_folder=os.path.join('D:\\data\\SEASTAR\\SEASTARex\\Data\\L1c','')\n",
    "days = ['17','22','25','26']\n",
    "flights = ['202205' + d for d in days]\n",
    "file_paths = ss.utils.readers._set_file_paths()\n",
    "L1b_path = os.path.join(file_paths['l1b_path'],'')"
   ]
  },
  {
   "cell_type": "code",
   "execution_count": 4,
   "id": "65f2d4ea",
   "metadata": {},
   "outputs": [
    {
     "name": "stdout",
     "output_type": "stream",
     "text": [
      "Processing flight  20220517 ...\n",
      "Processing track Track_11 ...\n",
      "Saving to disk...\n",
      "Processing track Track_12 ...\n",
      "Saving to disk...\n",
      "Processing track Track_13 ...\n",
      "Saving to disk...\n",
      "Processing track Track_1 ...\n",
      "Saving to disk...\n",
      "Processing track Track_2 ...\n",
      "Saving to disk...\n",
      "Processing track Track_1b ...\n",
      "Saving to disk...\n",
      "Processing track Track_l1 ...\n",
      "Saving to disk...\n",
      "Processing flight  20220522 ...\n",
      "Processing track Track_1 ...\n",
      "Saving to disk...\n",
      "Processing track Track_2 ...\n",
      "Saving to disk...\n",
      "Processing track Track_1b ...\n",
      "Saving to disk...\n",
      "Processing track Track_11 ...\n",
      "Saving to disk...\n",
      "Processing track Track_12 ...\n",
      "Saving to disk...\n",
      "Processing track Track_13 ...\n",
      "Saving to disk...\n",
      "Processing track Track_14 ...\n",
      "Saving to disk...\n",
      "Processing track Track_15 ...\n",
      "Saving to disk...\n",
      "Processing track Track_16 ...\n",
      "Saving to disk...\n",
      "Processing track Track_17 ...\n",
      "Saving to disk...\n",
      "Processing track Track_18 ...\n",
      "Saving to disk...\n",
      "Processing track Track_2b ...\n",
      "Saving to disk...\n",
      "Processing track Track_l1 ...\n",
      "Saving to disk...\n",
      "Processing flight  20220525 ...\n",
      "Processing track Track_l1 ...\n",
      "Saving to disk...\n",
      "Processing track Track_22a1 ...\n",
      "Saving to disk...\n",
      "Processing track Track_22a2 ...\n",
      "Saving to disk...\n",
      "Processing track Track_22a3 ...\n",
      "Saving to disk...\n",
      "Processing track Track_22a4 ...\n",
      "Saving to disk...\n",
      "Processing track Track_22a5 ...\n",
      "Saving to disk...\n",
      "Processing track Track_22b ...\n",
      "Saving to disk...\n",
      "Processing flight  20220526 ...\n",
      "Processing track Track_2 ...\n",
      "Saving to disk...\n",
      "Processing track Track_1 ...\n",
      "Saving to disk...\n",
      "Processing track Track_13 ...\n",
      "Saving to disk...\n",
      "Processing track Track_14 ...\n",
      "Saving to disk...\n",
      "Processing track Track_11 ...\n",
      "Saving to disk...\n",
      "Processing track Track_12 ...\n",
      "Saving to disk...\n",
      "Processing track Track_17 ...\n",
      "Saving to disk...\n",
      "Processing track Track_18 ...\n",
      "Saving to disk...\n",
      "Processing track Track_15 ...\n",
      "Saving to disk...\n",
      "Processing track Track_16 ...\n",
      "Saving to disk...\n",
      "Processing track Track_2b ...\n",
      "Saving to disk...\n",
      "Processing track Track_1b ...\n",
      "Saving to disk...\n",
      "Processing track Track_l1 ...\n",
      "Saving to disk...\n"
     ]
    }
   ],
   "source": [
    "for flight in flights:\n",
    "    print('Processing flight ', flight, '...')\n",
    "    DAR_tracks = ss.utils.readers._read_DAR_config(flight)\n",
    "    for track in DAR_tracks.keys():\n",
    "        print('Processing track',track,'...')\n",
    "        ds_L1b = xr.open_dataset(file_paths['l1b_path'] + flight + '_' + track + '_OSCAR_L1b.nc')\n",
    "        ds_L1c = ds_L1b.copy(deep=True)\n",
    "        ds_L1c['Interferogram'].loc[dict({'Antenna': 'Fore'})] = ds_L1b.sel(Antenna='Fore').Interferogram\\\n",
    "                    - -0.0025 * ds_L1b.sel(Antenna='Fore').IncidenceAngleImage - 0.129\n",
    "        ds_L1c['Interferogram'].loc[dict({'Antenna': 'Aft'})] = ds_L1b.sel(Antenna='Aft').Interferogram\\\n",
    "                    - 0.0043 * ds_L1b.sel(Antenna='Aft').IncidenceAngleImage - -0.2364\n",
    "        \n",
    "#         ds_L1c.attrs['Interferogram corrected for Sigma0'] = {'function': 'y = m * x + c',\n",
    "#                                                   'Fore': 'm = -0.0025, c = 0.129',\n",
    "#                                          'Aft': 'm = -0.0043, c = -0.2364'}\n",
    "        rsv = [ss.oscar.level1.compute_radial_surface_velocity(ds_L1c.sel(Antenna=ant))\n",
    "               for ant in ds_L1c.Antenna.values]\n",
    "        ds_L1c['RadialSurfaceVelocity'] = xr.concat(rsv, 'Antenna',join='outer')\n",
    "        print('Saving to disk...')\n",
    "        ds_L1c.to_netcdf(os.path.join(save_folder, flight + '_' + track +'_OSCAR_L1c.nc'))"
   ]
  },
  {
   "cell_type": "code",
   "execution_count": null,
   "id": "031135ca",
   "metadata": {},
   "outputs": [],
   "source": []
  }
 ],
 "metadata": {
  "kernelspec": {
   "display_name": "seastar",
   "language": "python",
   "name": "seastar"
  },
  "language_info": {
   "codemirror_mode": {
    "name": "ipython",
    "version": 3
   },
   "file_extension": ".py",
   "mimetype": "text/x-python",
   "name": "python",
   "nbconvert_exporter": "python",
   "pygments_lexer": "ipython3",
   "version": "3.8.16"
  }
 },
 "nbformat": 4,
 "nbformat_minor": 5
}
