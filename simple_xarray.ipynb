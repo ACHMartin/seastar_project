{
 "cells": [
  {
   "cell_type": "code",
   "execution_count": 1,
   "id": "9d8d939b",
   "metadata": {},
   "outputs": [
    {
     "ename": "ModuleNotFoundError",
     "evalue": "No module named 'cartopy'",
     "output_type": "error",
     "traceback": [
      "\u001b[1;31m---------------------------------------------------------------------------\u001b[0m",
      "\u001b[1;31mModuleNotFoundError\u001b[0m                       Traceback (most recent call last)",
      "\u001b[1;32m<ipython-input-1-9a823456e9ad>\u001b[0m in \u001b[0;36m<module>\u001b[1;34m\u001b[0m\n\u001b[0;32m      3\u001b[0m \u001b[1;32mimport\u001b[0m \u001b[0mnumpy\u001b[0m \u001b[1;32mas\u001b[0m \u001b[0mnp\u001b[0m\u001b[1;33m\u001b[0m\u001b[1;33m\u001b[0m\u001b[0m\n\u001b[0;32m      4\u001b[0m \u001b[1;32mimport\u001b[0m \u001b[0mmatplotlib\u001b[0m\u001b[1;33m.\u001b[0m\u001b[0mpyplot\u001b[0m \u001b[1;32mas\u001b[0m \u001b[0mplt\u001b[0m\u001b[1;33m\u001b[0m\u001b[1;33m\u001b[0m\u001b[0m\n\u001b[1;32m----> 5\u001b[1;33m \u001b[1;32mimport\u001b[0m \u001b[0mcartopy\u001b[0m\u001b[1;33m.\u001b[0m\u001b[0mcrs\u001b[0m \u001b[1;32mas\u001b[0m \u001b[0mccrs\u001b[0m\u001b[1;33m\u001b[0m\u001b[1;33m\u001b[0m\u001b[0m\n\u001b[0m\u001b[0;32m      6\u001b[0m \u001b[1;33m\u001b[0m\u001b[0m\n\u001b[0;32m      7\u001b[0m \u001b[0mdata_folder\u001b[0m \u001b[1;33m=\u001b[0m \u001b[1;34m'd:\\\\data\\\\seastar\\\\TerraSAR-X'\u001b[0m\u001b[1;33m\u001b[0m\u001b[1;33m\u001b[0m\u001b[0m\n",
      "\u001b[1;31mModuleNotFoundError\u001b[0m: No module named 'cartopy'"
     ]
    }
   ],
   "source": [
    "import os\n",
    "import xarray as xr\n",
    "import numpy as np\n",
    "import matplotlib.pyplot as plt\n",
    "import cartopy.crs as ccrs\n",
    "\n",
    "data_folder = 'd:\\\\data\\\\seastar\\\\TerraSAR-X'\n",
    "print(os.path.isdir(data_folder))\n",
    "\n",
    "input_file = 'TDX1_SAR_MGD_RE__SM_S_SRA_20220524T064511_20220524T064519_Cal_TC_dB.nc'\n",
    "input_path = os.path.join(data_folder, input_file)"
   ]
  },
  {
   "cell_type": "code",
   "execution_count": null,
   "id": "31131b0d",
   "metadata": {},
   "outputs": [],
   "source": [
    "dsm = xr.open_dataset(input_path)\n",
    "print (dsm)"
   ]
  },
  {
   "cell_type": "code",
   "execution_count": null,
   "id": "f002fe31",
   "metadata": {},
   "outputs": [],
   "source": [
    "dsm.attrs"
   ]
  },
  {
   "cell_type": "code",
   "execution_count": null,
   "id": "b5b57672",
   "metadata": {},
   "outputs": [],
   "source": [
    "dsm.LatImage.plot()"
   ]
  },
  {
   "cell_type": "code",
   "execution_count": null,
   "id": "0ff6a826",
   "metadata": {},
   "outputs": [],
   "source": [
    "dsm = xr.open_dataset(input_path,\n",
    "                     mask_and_scale=True)\n",
    "\n",
    "fig = plt.figure(figsize=(20, 10))\n",
    "ax = fig.add_subplot(1,1,1, projection=ccrs.Mercator())\n",
    "np.log10(dsm.Sigma0_VV_db).plot(\n",
    "                                 y='lat', x='lon',\n",
    "                                 robust=True, \n",
    "                                 cmap='gist_gray',\n",
    "                                 vmin=7, vmax=8.8,\n",
    "                                       transform=ccrs.PlateCarree()\n",
    "                                           )\n",
    "ax.coastlines(resolution='10m')\n",
    "gl=ax.gridlines(draw_labels=True)\n",
    "ax.set_extent([-5.17, -5., 48.37, 48.5], crs=ccrs.PlateCarree())\n"
   ]
  },
  {
   "cell_type": "code",
   "execution_count": null,
   "id": "f623e7f9",
   "metadata": {},
   "outputs": [],
   "source": [
    "-\t48°20’ or 48.33° to 48°32’ or 48.53°\n",
    "-\t5°12’ or 5.20° W to 5°5’ or 5.08° W\n"
   ]
  }
 ],
 "metadata": {
  "kernelspec": {
   "display_name": "Python 3",
   "language": "python",
   "name": "python3"
  },
  "language_info": {
   "codemirror_mode": {
    "name": "ipython",
    "version": 3
   },
   "file_extension": ".py",
   "mimetype": "text/x-python",
   "name": "python",
   "nbconvert_exporter": "python",
   "pygments_lexer": "ipython3",
   "version": "3.8.13"
  }
 },
 "nbformat": 4,
 "nbformat_minor": 5
}
