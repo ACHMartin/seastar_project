{
 "cells": [
  {
   "cell_type": "code",
   "execution_count": null,
   "id": "9d8d939b",
   "metadata": {},
   "outputs": [],
   "source": [
    "import os\n",
    "import xarray as xr\n",
    "import numpy as np\n",
    "import matplotlib.pyplot as plt\n",
    "#import cartopy.crs as ccrs\n",
    "\n",
    "data_folder = 'd:\\\\data\\\\seastar\\\\TerraSAR-X\\\\20220527'\n",
    "print(os.path.isdir(data_folder))\n",
    "\n",
    "input_file = 'TDX1_SAR_MGD_RE__SM_S_SRA_20220524T064511_20220524T064519_Cal_TC_dB.nc'\n",
    "input_file = 'TDX1_SAR_MGD_RE__SM_S_SRA_20220527T181016_20220527T181024_Cal_TC_Spk_dB.nc'\n",
    "input_path = os.path.join(data_folder, input_file)"
   ]
  },
  {
   "cell_type": "code",
   "execution_count": null,
   "id": "31131b0d",
   "metadata": {},
   "outputs": [],
   "source": [
    "dsm = xr.open_dataset(input_path)\n",
    "print (dsm)"
   ]
  },
  {
   "cell_type": "code",
   "execution_count": null,
   "id": "f002fe31",
   "metadata": {},
   "outputs": [],
   "source": [
    "dsm.attrs"
   ]
  },
  {
   "cell_type": "code",
   "execution_count": null,
   "id": "b5b57672",
   "metadata": {},
   "outputs": [],
   "source": [
    "dsm.LatImage.plot()"
   ]
  },
  {
   "cell_type": "code",
   "execution_count": null,
   "id": "0ff6a826",
   "metadata": {},
   "outputs": [],
   "source": [
    "dsm = xr.open_dataset(input_path,\n",
    "                     mask_and_scale=True)\n",
    "\n",
    "fig = plt.figure(figsize=(20, 10))\n",
    "ax = fig.add_subplot(1,1,1, projection=ccrs.Mercator())\n",
    "np.log10(dsm.Sigma0_VV_db).plot(\n",
    "                                 y='lat', x='lon',\n",
    "                                 robust=True, \n",
    "                                 cmap='gist_gray',\n",
    "                                 vmin=7, vmax=8.8,\n",
    "                                       transform=ccrs.PlateCarree()\n",
    "                                           )\n",
    "ax.coastlines(resolution='10m')\n",
    "gl=ax.gridlines(draw_labels=True)\n",
    "ax.set_extent([-5.17, -5., 48.37, 48.5], crs=ccrs.PlateCarree())\n"
   ]
  },
  {
   "cell_type": "code",
   "execution_count": null,
   "id": "6c654b7c",
   "metadata": {},
   "outputs": [],
   "source": [
    "dsm.Sigma0_VV_db.plot()"
   ]
  },
  {
   "cell_type": "code",
   "execution_count": null,
   "id": "bfc21695",
   "metadata": {},
   "outputs": [],
   "source": []
  }
 ],
 "metadata": {
  "kernelspec": {
   "display_name": "Python 3",
   "language": "python",
   "name": "python3"
  },
  "language_info": {
   "codemirror_mode": {
    "name": "ipython",
    "version": 3
   },
   "file_extension": ".py",
   "mimetype": "text/x-python",
   "name": "python",
   "nbconvert_exporter": "python",
   "pygments_lexer": "ipython3",
   "version": "3.8.13"
  }
 },
 "nbformat": 4,
 "nbformat_minor": 5
}
