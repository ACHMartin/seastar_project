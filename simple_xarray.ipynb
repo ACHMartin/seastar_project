{
 "cells": [
  {
   "cell_type": "code",
   "execution_count": null,
   "id": "9d8d939b",
   "metadata": {},
   "outputs": [],
   "source": [
    "import os\n",
    "import xarray as xr\n",
    "\n",
    "data_folder = \"d:\\\\data\\\\seastar\\\\OSCAR\"\n",
    "oscar_file = \"SAR_CPLX_20220412091833_13.5G_VV_21_pres_4_fdc_-4002.sar_INF_SAR_CPLX_20220412091833_13.5G_VV_22_pres_4_fdc_-4002.sar.ovl.nc\""
   ]
  },
  {
   "cell_type": "code",
   "execution_count": null,
   "id": "31131b0d",
   "metadata": {},
   "outputs": [],
   "source": [
    "oscar_path = os.path.join(data_folder, oscar_file)\n",
    "\n",
    "oscar_xa = xr.open_dataset(oscar_path)\n",
    "\n",
    "print (oscar_xa)"
   ]
  },
  {
   "cell_type": "code",
   "execution_count": null,
   "id": "f002fe31",
   "metadata": {},
   "outputs": [],
   "source": [
    "oscar_xa.attrs"
   ]
  },
  {
   "cell_type": "code",
   "execution_count": null,
   "id": "b5b57672",
   "metadata": {},
   "outputs": [],
   "source": [
    "oscar_xa.LatImage.plot()"
   ]
  },
  {
   "cell_type": "code",
   "execution_count": null,
   "id": "0ff6a826",
   "metadata": {},
   "outputs": [],
   "source": []
  }
 ],
 "metadata": {
  "kernelspec": {
   "display_name": "Python 3 (ipykernel)",
   "language": "python",
   "name": "python3"
  },
  "language_info": {
   "codemirror_mode": {
    "name": "ipython",
    "version": 3
   },
   "file_extension": ".py",
   "mimetype": "text/x-python",
   "name": "python",
   "nbconvert_exporter": "python",
   "pygments_lexer": "ipython3",
   "version": "3.7.13"
  }
 },
 "nbformat": 4,
 "nbformat_minor": 5
}
